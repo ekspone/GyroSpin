{
 "cells": [
  {
   "cell_type": "code",
   "execution_count": 1,
   "id": "0683e07c-e40c-4cf9-8509-33cfa4cdb990",
   "metadata": {},
   "outputs": [],
   "source": [
    "import numpy as np\n",
    "import matplotlib.pyplot as plt\n",
    "import sympy as smp\n",
    "from scipy.integrate import odeint\n",
    "import plotly.graph_objects as go\n",
    "from IPython.display import HTML"
   ]
  },
  {
   "cell_type": "code",
   "execution_count": 2,
   "id": "cdd2cbe9-4b8e-4723-b0b0-1d46cf041938",
   "metadata": {},
   "outputs": [],
   "source": [
    "t, h, g, m, x0, p, w, J1, J3 = smp.symbols(r't h g m x_0 \\Phi \\omega J_1, J_3', real=True)\n",
    "the, phi, psi = smp.symbols(r'\\theta \\phi \\psi', cls=smp.Function)\n",
    "the = the(t)\n",
    "phi = phi(t)\n",
    "psi = psi(t)\n",
    "# Derivatives\n",
    "the_d = smp.diff(the,t)\n",
    "phi_d = smp.diff(phi,t)\n",
    "psi_d = smp.diff(psi,t)\n",
    "# Second derivatives\n",
    "the_dd = smp.diff(the_d,t)\n",
    "phi_dd = smp.diff(phi_d,t)\n",
    "psi_dd = smp.diff(psi_d,t)\n",
    "\n",
    "R3 = smp.Matrix([[smp.cos(psi),-smp.sin(psi),0],\n",
    "                 [smp.sin(psi),smp.cos(psi),0],\n",
    "                 [0,0,1]])\n",
    "\n",
    "R2 = smp.Matrix([[1,0,0],\n",
    "                 [0,smp.cos(the),-smp.sin(the)],\n",
    "                 [0,smp.sin(the),smp.cos(the)]])\n",
    "\n",
    "R1 = smp.Matrix([[smp.cos(phi),-smp.sin(phi),0],\n",
    "                 [smp.sin(phi),smp.cos(phi),0],\n",
    "                 [0,0,1]])\n",
    "\n",
    "R = R1*R2*R3\n",
    "\n",
    "omega = smp.Matrix([phi_d*smp.sin(the)*smp.sin(psi)+the_d*smp.cos(psi),\n",
    "                    phi_d*smp.sin(the)*smp.cos(psi)-the_d*smp.sin(psi),\n",
    "                    phi_d*smp.cos(the)+psi_d])\n",
    "\n",
    "I = smp.Matrix([[J1,0,0],[0,J1,0],[0,0,J3]])\n",
    "\n",
    "xc = h * R @ smp.Matrix([0, 0, 1]) + smp.Matrix([x0 * smp.cos(w * t + p), 0, 0])\n",
    "xc.simplify()\n",
    "vc = smp.diff(xc, t)\n",
    "vc.simplify()\n",
    "vc_carre = vc.T.dot(vc)\n",
    "vc_carre.simplify()\n",
    "\n",
    "xc_free = h * R @ smp.Matrix([0, 0, 1])\n",
    "xc_free.simplify()\n",
    "vc_free = smp.diff(xc_free, t)\n",
    "vc_free.simplify()\n",
    "vc_carre_free = vc_free.T.dot(vc_free)\n",
    "vc_carre_free.simplify()\n",
    "\n",
    "\n",
    "# Kinetic, and potential energy\n",
    "T_rot = (smp.Rational(1, 2) * omega.T.dot(I * omega).simplify())  # Rotational kinetic energy\n",
    "T_c = smp.Rational(1, 2) * m * vc_carre  # Translational kinetic energy\n",
    "T_c = T_c.simplify()\n",
    "T = T_c + T_rot  # Total kinetic energy\n",
    "V = m * g * h * smp.cos(the)  # Potential energy (gravitation)\n",
    "\n",
    "T_free = smp.Rational(1, 2) * m * vc_carre_free + T_rot\n",
    "T_free = T_free.simplify()\n",
    "\n",
    "# Lagrangian\n",
    "L = T_free - V\n",
    "L = L.simplify()\n",
    "L_f = T - V\n",
    "L_f = L_f.simplify()\n",
    "\n",
    "genCoordinates = [the, phi, psi]\n",
    "genSpeeds = [the_d, phi_d, psi_d]\n",
    "genAcceleration = [the_dd, phi_dd, psi_dd]\n",
    "\n",
    "R_inverse = R.transpose()"
   ]
  },
  {
   "cell_type": "code",
   "execution_count": 3,
   "id": "76c36fd1-eb0d-4e09-8293-583002d8aa59",
   "metadata": {},
   "outputs": [
    {
     "data": {
      "text/latex": [
       "$\\displaystyle \\left[\\begin{matrix}- \\sin{\\left(\\phi{\\left(t \\right)} \\right)} \\sin{\\left(\\psi{\\left(t \\right)} \\right)} \\cos{\\left(\\theta{\\left(t \\right)} \\right)} + \\cos{\\left(\\phi{\\left(t \\right)} \\right)} \\cos{\\left(\\psi{\\left(t \\right)} \\right)}\\\\\\sin{\\left(\\phi{\\left(t \\right)} \\right)} \\cos{\\left(\\psi{\\left(t \\right)} \\right)} + \\sin{\\left(\\psi{\\left(t \\right)} \\right)} \\cos{\\left(\\phi{\\left(t \\right)} \\right)} \\cos{\\left(\\theta{\\left(t \\right)} \\right)}\\\\\\sin{\\left(\\psi{\\left(t \\right)} \\right)} \\sin{\\left(\\theta{\\left(t \\right)} \\right)}\\end{matrix}\\right]$"
      ],
      "text/plain": [
       "Matrix([\n",
       "[-sin(\\phi(t))*sin(\\psi(t))*cos(\\theta(t)) + cos(\\phi(t))*cos(\\psi(t))],\n",
       "[ sin(\\phi(t))*cos(\\psi(t)) + sin(\\psi(t))*cos(\\phi(t))*cos(\\theta(t))],\n",
       "[                                          sin(\\psi(t))*sin(\\theta(t))]])"
      ]
     },
     "execution_count": 3,
     "metadata": {},
     "output_type": "execute_result"
    }
   ],
   "source": [
    "R @ smp.Matrix([1 ,0, 0])"
   ]
  },
  {
   "cell_type": "code",
   "execution_count": 4,
   "id": "2e1c1ac7-edc0-4e3a-9223-f1d28169fa0b",
   "metadata": {},
   "outputs": [
    {
     "data": {
      "text/latex": [
       "$\\displaystyle \\left[\\begin{matrix}- \\sin{\\left(\\phi{\\left(t \\right)} \\right)} \\cos{\\left(\\psi{\\left(t \\right)} \\right)} \\cos{\\left(\\theta{\\left(t \\right)} \\right)} - \\sin{\\left(\\psi{\\left(t \\right)} \\right)} \\cos{\\left(\\phi{\\left(t \\right)} \\right)}\\\\- \\sin{\\left(\\phi{\\left(t \\right)} \\right)} \\sin{\\left(\\psi{\\left(t \\right)} \\right)} + \\cos{\\left(\\phi{\\left(t \\right)} \\right)} \\cos{\\left(\\psi{\\left(t \\right)} \\right)} \\cos{\\left(\\theta{\\left(t \\right)} \\right)}\\\\\\sin{\\left(\\theta{\\left(t \\right)} \\right)} \\cos{\\left(\\psi{\\left(t \\right)} \\right)}\\end{matrix}\\right]$"
      ],
      "text/plain": [
       "Matrix([\n",
       "[-sin(\\phi(t))*cos(\\psi(t))*cos(\\theta(t)) - sin(\\psi(t))*cos(\\phi(t))],\n",
       "[-sin(\\phi(t))*sin(\\psi(t)) + cos(\\phi(t))*cos(\\psi(t))*cos(\\theta(t))],\n",
       "[                                          sin(\\theta(t))*cos(\\psi(t))]])"
      ]
     },
     "execution_count": 4,
     "metadata": {},
     "output_type": "execute_result"
    }
   ],
   "source": [
    "R @ smp.Matrix([0 ,1, 0])"
   ]
  },
  {
   "cell_type": "code",
   "execution_count": 5,
   "id": "a3c0ff77-6c1d-44e6-970e-cf74f5632bec",
   "metadata": {},
   "outputs": [
    {
     "data": {
      "text/latex": [
       "$\\displaystyle \\left[\\begin{matrix}h \\sin{\\left(\\phi{\\left(t \\right)} \\right)} \\sin{\\left(\\theta{\\left(t \\right)} \\right)}\\\\- h \\sin{\\left(\\theta{\\left(t \\right)} \\right)} \\cos{\\left(\\phi{\\left(t \\right)} \\right)}\\\\h \\cos{\\left(\\theta{\\left(t \\right)} \\right)}\\end{matrix}\\right]$"
      ],
      "text/plain": [
       "Matrix([\n",
       "[ h*sin(\\phi(t))*sin(\\theta(t))],\n",
       "[-h*sin(\\theta(t))*cos(\\phi(t))],\n",
       "[              h*cos(\\theta(t))]])"
      ]
     },
     "execution_count": 5,
     "metadata": {},
     "output_type": "execute_result"
    }
   ],
   "source": [
    "PG = h *  R @ smp.Matrix([0,0, 1])\n",
    "PG"
   ]
  },
  {
   "cell_type": "code",
   "execution_count": 6,
   "id": "75e2bc13-8f22-41c2-a0ed-d745e86360be",
   "metadata": {},
   "outputs": [
    {
     "data": {
      "text/latex": [
       "$\\displaystyle \\left[\\begin{matrix}- \\sin{\\left(\\phi{\\left(t \\right)} \\right)} \\sin{\\left(\\psi{\\left(t \\right)} \\right)} \\cos{\\left(\\theta{\\left(t \\right)} \\right)} + \\cos{\\left(\\phi{\\left(t \\right)} \\right)} \\cos{\\left(\\psi{\\left(t \\right)} \\right)} & - \\sin{\\left(\\phi{\\left(t \\right)} \\right)} \\cos{\\left(\\psi{\\left(t \\right)} \\right)} \\cos{\\left(\\theta{\\left(t \\right)} \\right)} - \\sin{\\left(\\psi{\\left(t \\right)} \\right)} \\cos{\\left(\\phi{\\left(t \\right)} \\right)} & \\sin{\\left(\\phi{\\left(t \\right)} \\right)} \\sin{\\left(\\theta{\\left(t \\right)} \\right)}\\\\\\sin{\\left(\\phi{\\left(t \\right)} \\right)} \\cos{\\left(\\psi{\\left(t \\right)} \\right)} + \\sin{\\left(\\psi{\\left(t \\right)} \\right)} \\cos{\\left(\\phi{\\left(t \\right)} \\right)} \\cos{\\left(\\theta{\\left(t \\right)} \\right)} & - \\sin{\\left(\\phi{\\left(t \\right)} \\right)} \\sin{\\left(\\psi{\\left(t \\right)} \\right)} + \\cos{\\left(\\phi{\\left(t \\right)} \\right)} \\cos{\\left(\\psi{\\left(t \\right)} \\right)} \\cos{\\left(\\theta{\\left(t \\right)} \\right)} & - \\sin{\\left(\\theta{\\left(t \\right)} \\right)} \\cos{\\left(\\phi{\\left(t \\right)} \\right)}\\\\\\sin{\\left(\\psi{\\left(t \\right)} \\right)} \\sin{\\left(\\theta{\\left(t \\right)} \\right)} & \\sin{\\left(\\theta{\\left(t \\right)} \\right)} \\cos{\\left(\\psi{\\left(t \\right)} \\right)} & \\cos{\\left(\\theta{\\left(t \\right)} \\right)}\\end{matrix}\\right]$"
      ],
      "text/plain": [
       "Matrix([\n",
       "[-sin(\\phi(t))*sin(\\psi(t))*cos(\\theta(t)) + cos(\\phi(t))*cos(\\psi(t)), -sin(\\phi(t))*cos(\\psi(t))*cos(\\theta(t)) - sin(\\psi(t))*cos(\\phi(t)),  sin(\\phi(t))*sin(\\theta(t))],\n",
       "[ sin(\\phi(t))*cos(\\psi(t)) + sin(\\psi(t))*cos(\\phi(t))*cos(\\theta(t)), -sin(\\phi(t))*sin(\\psi(t)) + cos(\\phi(t))*cos(\\psi(t))*cos(\\theta(t)), -sin(\\theta(t))*cos(\\phi(t))],\n",
       "[                                          sin(\\psi(t))*sin(\\theta(t)),                                           sin(\\theta(t))*cos(\\psi(t)),               cos(\\theta(t))]])"
      ]
     },
     "execution_count": 6,
     "metadata": {},
     "output_type": "execute_result"
    }
   ],
   "source": [
    "R"
   ]
  },
  {
   "cell_type": "code",
   "execution_count": 7,
   "id": "389ea8da-4aeb-46a0-975c-5578577987bf",
   "metadata": {},
   "outputs": [
    {
     "data": {
      "text/latex": [
       "$\\displaystyle \\left[\\begin{matrix}- \\omega^{2} h m x_{0} \\sin{\\left(\\Phi + \\omega t \\right)} \\cos{\\left(\\theta{\\left(t \\right)} \\right)}\\\\\\omega^{2} h m x_{0} \\cos{\\left(\\Phi + \\omega t \\right)} \\cos{\\left(\\theta{\\left(t \\right)} \\right)}\\\\\\omega^{2} h m x_{0} \\sin{\\left(\\theta{\\left(t \\right)} \\right)} \\cos{\\left(\\Phi + \\omega t - \\phi{\\left(t \\right)} \\right)}\\end{matrix}\\right]$"
      ],
      "text/plain": [
       "Matrix([\n",
       "[         -\\omega**2*h*m*x_0*sin(\\Phi + \\omega*t)*cos(\\theta(t))],\n",
       "[          \\omega**2*h*m*x_0*cos(\\Phi + \\omega*t)*cos(\\theta(t))],\n",
       "[\\omega**2*h*m*x_0*sin(\\theta(t))*cos(\\Phi + \\omega*t - \\phi(t))]])"
      ]
     },
     "execution_count": 7,
     "metadata": {},
     "output_type": "execute_result"
    }
   ],
   "source": [
    "ae = - (w**2) * x0 * smp.Matrix([smp.cos(w*t+p), smp.sin(w*t+p), 0])\n",
    "#ae = - (w**2) * x0 * smp.Matrix([smp.cos(w*t+p), 0, 0])\n",
    "Fe = -m*ae\n",
    "Momentum_Fe = PG.cross(Fe)\n",
    "Momentum_Fe.simplify()\n",
    "Momentum_Fe"
   ]
  },
  {
   "cell_type": "code",
   "execution_count": 8,
   "id": "fe8f4e44-f561-40c9-9df7-c494e8bcaf7d",
   "metadata": {},
   "outputs": [
    {
     "data": {
      "text/latex": [
       "$\\displaystyle \\left[\\begin{matrix}g h m \\sin{\\left(\\theta{\\left(t \\right)} \\right)} \\cos{\\left(\\phi{\\left(t \\right)} \\right)}\\\\g h m \\sin{\\left(\\phi{\\left(t \\right)} \\right)} \\sin{\\left(\\theta{\\left(t \\right)} \\right)}\\\\0\\end{matrix}\\right]$"
      ],
      "text/plain": [
       "Matrix([\n",
       "[g*h*m*sin(\\theta(t))*cos(\\phi(t))],\n",
       "[g*h*m*sin(\\phi(t))*sin(\\theta(t))],\n",
       "[                                0]])"
      ]
     },
     "execution_count": 8,
     "metadata": {},
     "output_type": "execute_result"
    }
   ],
   "source": [
    "P = -m*g*smp.Matrix([0,0,1])\n",
    "Momentum_P = PG.cross(P)\n",
    "Momentum_P.simplify()\n",
    "Momentum_P"
   ]
  },
  {
   "cell_type": "code",
   "execution_count": 9,
   "id": "77e8af6c-db58-4e0d-bec3-30f7871ae636",
   "metadata": {},
   "outputs": [
    {
     "name": "stdout",
     "output_type": "stream",
     "text": [
      "0\n",
      "cos(\\theta(t))\n",
      "0\n"
     ]
    },
    {
     "data": {
      "text/latex": [
       "$\\displaystyle \\left[\\begin{matrix}\\sin{\\left(\\phi{\\left(t \\right)} \\right)} \\sin{\\left(\\theta{\\left(t \\right)} \\right)}\\\\- \\sin{\\left(\\theta{\\left(t \\right)} \\right)} \\cos{\\left(\\phi{\\left(t \\right)} \\right)}\\\\\\cos{\\left(\\theta{\\left(t \\right)} \\right)}\\end{matrix}\\right]$"
      ],
      "text/plain": [
       "Matrix([\n",
       "[ sin(\\phi(t))*sin(\\theta(t))],\n",
       "[-sin(\\theta(t))*cos(\\phi(t))],\n",
       "[              cos(\\theta(t))]])"
      ]
     },
     "execution_count": 9,
     "metadata": {},
     "output_type": "execute_result"
    }
   ],
   "source": [
    "vect_the = R@smp.Matrix([smp.cos(psi), -smp.sin(psi), 0])\n",
    "vect_the.simplify()\n",
    "vect_phi = R@smp.Matrix([smp.sin(the)*smp.sin(psi), smp.sin(the)*smp.cos(psi), smp.cos(the)])\n",
    "vect_phi.simplify()\n",
    "vect_psi = R@smp.Matrix([0, 0, 1])\n",
    "vect_psi.simplify()\n",
    "\n",
    "print(vect_the.dot(vect_phi))\n",
    "print(vect_phi.dot(vect_psi))\n",
    "print(vect_the.dot(vect_psi))\n",
    "\n",
    "vect_psi"
   ]
  },
  {
   "cell_type": "markdown",
   "id": "c8c91d3b-e953-4b83-8db3-f0b8b5856acd",
   "metadata": {},
   "source": [
    "## Composantes du moment du poids :"
   ]
  },
  {
   "cell_type": "code",
   "execution_count": 10,
   "id": "77f99f1c-7ecd-4dac-945c-d57a53ea571a",
   "metadata": {},
   "outputs": [
    {
     "data": {
      "text/latex": [
       "$\\displaystyle g h m \\sin{\\left(\\theta{\\left(t \\right)} \\right)}$"
      ],
      "text/plain": [
       "g*h*m*sin(\\theta(t))"
      ]
     },
     "execution_count": 10,
     "metadata": {},
     "output_type": "execute_result"
    }
   ],
   "source": [
    "Momentum_P.dot(vect_the).simplify()"
   ]
  },
  {
   "cell_type": "code",
   "execution_count": 11,
   "id": "151612d4-1e54-45fe-a2f9-ec1002d8f3ba",
   "metadata": {},
   "outputs": [
    {
     "data": {
      "text/latex": [
       "$\\displaystyle 0$"
      ],
      "text/plain": [
       "0"
      ]
     },
     "execution_count": 11,
     "metadata": {},
     "output_type": "execute_result"
    }
   ],
   "source": [
    "Momentum_P.dot(vect_phi).simplify()"
   ]
  },
  {
   "cell_type": "code",
   "execution_count": 12,
   "id": "131f9813-4d7e-418c-afe1-b31a8a7685b5",
   "metadata": {},
   "outputs": [
    {
     "data": {
      "text/latex": [
       "$\\displaystyle 0$"
      ],
      "text/plain": [
       "0"
      ]
     },
     "execution_count": 12,
     "metadata": {},
     "output_type": "execute_result"
    }
   ],
   "source": [
    "Momentum_P.dot(vect_psi).simplify()"
   ]
  },
  {
   "cell_type": "markdown",
   "id": "4a52d142-fbde-42e0-bf2e-65103a843ac8",
   "metadata": {},
   "source": [
    "## Composantes de la force centrifuge :"
   ]
  },
  {
   "cell_type": "code",
   "execution_count": 13,
   "id": "fd2428e1-36cd-4a70-9efa-cc1ad2a84fee",
   "metadata": {},
   "outputs": [
    {
     "data": {
      "text/latex": [
       "$\\displaystyle - \\omega^{2} h m x_{0} \\sin{\\left(\\Phi + \\omega t - \\phi{\\left(t \\right)} \\right)} \\cos{\\left(\\theta{\\left(t \\right)} \\right)}$"
      ],
      "text/plain": [
       "-\\omega**2*h*m*x_0*sin(\\Phi + \\omega*t - \\phi(t))*cos(\\theta(t))"
      ]
     },
     "execution_count": 13,
     "metadata": {},
     "output_type": "execute_result"
    }
   ],
   "source": [
    "Momentum_Fe.dot(vect_the).simplify()"
   ]
  },
  {
   "cell_type": "code",
   "execution_count": 14,
   "id": "09494637-4a97-42e8-9473-4acd361e3154",
   "metadata": {},
   "outputs": [
    {
     "data": {
      "text/latex": [
       "$\\displaystyle \\omega^{2} h m x_{0} \\sin{\\left(\\theta{\\left(t \\right)} \\right)} \\cos{\\left(\\Phi + \\omega t - \\phi{\\left(t \\right)} \\right)}$"
      ],
      "text/plain": [
       "\\omega**2*h*m*x_0*sin(\\theta(t))*cos(\\Phi + \\omega*t - \\phi(t))"
      ]
     },
     "execution_count": 14,
     "metadata": {},
     "output_type": "execute_result"
    }
   ],
   "source": [
    "Momentum_Fe.dot(vect_phi).simplify()"
   ]
  },
  {
   "cell_type": "code",
   "execution_count": 15,
   "id": "d090c32b-e89c-4c11-ae34-e75d68888f92",
   "metadata": {},
   "outputs": [
    {
     "data": {
      "text/latex": [
       "$\\displaystyle 0$"
      ],
      "text/plain": [
       "0"
      ]
     },
     "execution_count": 15,
     "metadata": {},
     "output_type": "execute_result"
    }
   ],
   "source": [
    "Momentum_Fe.dot(vect_psi).simplify()"
   ]
  },
  {
   "cell_type": "code",
   "execution_count": null,
   "id": "a99b595a-20de-486a-8957-ab4b755238a8",
   "metadata": {},
   "outputs": [],
   "source": []
  },
  {
   "cell_type": "code",
   "execution_count": 26,
   "id": "6756c88d-6da2-448d-ae52-2410dd056b22",
   "metadata": {},
   "outputs": [
    {
     "data": {
      "text/latex": [
       "$\\displaystyle \\left[\\begin{matrix}h \\left(\\sin{\\left(\\phi{\\left(t \\right)} \\right)} \\cos{\\left(\\theta{\\left(t \\right)} \\right)} \\frac{d}{d t} \\theta{\\left(t \\right)} + \\sin{\\left(\\theta{\\left(t \\right)} \\right)} \\cos{\\left(\\phi{\\left(t \\right)} \\right)} \\frac{d}{d t} \\phi{\\left(t \\right)}\\right)\\\\h \\left(\\sin{\\left(\\phi{\\left(t \\right)} \\right)} \\sin{\\left(\\theta{\\left(t \\right)} \\right)} \\frac{d}{d t} \\phi{\\left(t \\right)} - \\cos{\\left(\\phi{\\left(t \\right)} \\right)} \\cos{\\left(\\theta{\\left(t \\right)} \\right)} \\frac{d}{d t} \\theta{\\left(t \\right)}\\right)\\\\- h \\sin{\\left(\\theta{\\left(t \\right)} \\right)} \\frac{d}{d t} \\theta{\\left(t \\right)}\\end{matrix}\\right]$"
      ],
      "text/plain": [
       "Matrix([\n",
       "[h*(sin(\\phi(t))*cos(\\theta(t))*Derivative(\\theta(t), t) + sin(\\theta(t))*cos(\\phi(t))*Derivative(\\phi(t), t))],\n",
       "[h*(sin(\\phi(t))*sin(\\theta(t))*Derivative(\\phi(t), t) - cos(\\phi(t))*cos(\\theta(t))*Derivative(\\theta(t), t))],\n",
       "[                                                                   -h*sin(\\theta(t))*Derivative(\\theta(t), t)]])"
      ]
     },
     "execution_count": 26,
     "metadata": {},
     "output_type": "execute_result"
    }
   ],
   "source": [
    "v = smp.diff(PG, t)\n",
    "v.simplify()\n",
    "v"
   ]
  },
  {
   "cell_type": "code",
   "execution_count": 34,
   "id": "9fb98d69-e3e5-4b3c-95f7-dbc4381d0292",
   "metadata": {},
   "outputs": [],
   "source": [
    "L = I * omega"
   ]
  },
  {
   "cell_type": "code",
   "execution_count": 35,
   "id": "d62f681d-9f46-41f6-9cad-bd5850955d76",
   "metadata": {},
   "outputs": [
    {
     "data": {
      "text/latex": [
       "$\\displaystyle \\left[\\begin{matrix}J_{1} \\left(\\sin{\\left(\\psi{\\left(t \\right)} \\right)} \\sin{\\left(\\theta{\\left(t \\right)} \\right)} \\frac{d}{d t} \\phi{\\left(t \\right)} + \\cos{\\left(\\psi{\\left(t \\right)} \\right)} \\frac{d}{d t} \\theta{\\left(t \\right)}\\right)\\\\J_{1} \\left(- \\sin{\\left(\\psi{\\left(t \\right)} \\right)} \\frac{d}{d t} \\theta{\\left(t \\right)} + \\sin{\\left(\\theta{\\left(t \\right)} \\right)} \\cos{\\left(\\psi{\\left(t \\right)} \\right)} \\frac{d}{d t} \\phi{\\left(t \\right)}\\right)\\\\J_{3} \\left(\\cos{\\left(\\theta{\\left(t \\right)} \\right)} \\frac{d}{d t} \\phi{\\left(t \\right)} + \\frac{d}{d t} \\psi{\\left(t \\right)}\\right)\\end{matrix}\\right]$"
      ],
      "text/plain": [
       "Matrix([\n",
       "[ J_1*(sin(\\psi(t))*sin(\\theta(t))*Derivative(\\phi(t), t) + cos(\\psi(t))*Derivative(\\theta(t), t))],\n",
       "[J_1*(-sin(\\psi(t))*Derivative(\\theta(t), t) + sin(\\theta(t))*cos(\\psi(t))*Derivative(\\phi(t), t))],\n",
       "[                             J_3*(cos(\\theta(t))*Derivative(\\phi(t), t) + Derivative(\\psi(t), t))]])"
      ]
     },
     "execution_count": 35,
     "metadata": {},
     "output_type": "execute_result"
    }
   ],
   "source": [
    "L"
   ]
  },
  {
   "cell_type": "code",
   "execution_count": 42,
   "id": "099ef4af-f724-44ee-9d59-3d3791311520",
   "metadata": {},
   "outputs": [
    {
     "data": {
      "text/latex": [
       "$\\displaystyle - J_{1} \\left(- \\sin{\\left(\\psi{\\left(t \\right)} \\right)} \\frac{d}{d t} \\theta{\\left(t \\right)} + \\sin{\\left(\\theta{\\left(t \\right)} \\right)} \\cos{\\left(\\psi{\\left(t \\right)} \\right)} \\frac{d}{d t} \\phi{\\left(t \\right)}\\right) \\sin{\\left(\\theta{\\left(t \\right)} \\right)} \\cos{\\left(\\phi{\\left(t \\right)} \\right)} + J_{1} \\left(\\sin{\\left(\\psi{\\left(t \\right)} \\right)} \\sin{\\left(\\theta{\\left(t \\right)} \\right)} \\frac{d}{d t} \\phi{\\left(t \\right)} + \\cos{\\left(\\psi{\\left(t \\right)} \\right)} \\frac{d}{d t} \\theta{\\left(t \\right)}\\right) \\sin{\\left(\\phi{\\left(t \\right)} \\right)} \\sin{\\left(\\theta{\\left(t \\right)} \\right)} + J_{3} \\left(\\cos{\\left(\\theta{\\left(t \\right)} \\right)} \\frac{d}{d t} \\phi{\\left(t \\right)} + \\frac{d}{d t} \\psi{\\left(t \\right)}\\right) \\cos{\\left(\\theta{\\left(t \\right)} \\right)}$"
      ],
      "text/plain": [
       "-J_1*(-sin(\\psi(t))*Derivative(\\theta(t), t) + sin(\\theta(t))*cos(\\psi(t))*Derivative(\\phi(t), t))*sin(\\theta(t))*cos(\\phi(t)) + J_1*(sin(\\psi(t))*sin(\\theta(t))*Derivative(\\phi(t), t) + cos(\\psi(t))*Derivative(\\theta(t), t))*sin(\\phi(t))*sin(\\theta(t)) + J_3*(cos(\\theta(t))*Derivative(\\phi(t), t) + Derivative(\\psi(t), t))*cos(\\theta(t))"
      ]
     },
     "execution_count": 42,
     "metadata": {},
     "output_type": "execute_result"
    }
   ],
   "source": [
    "from sympy import trigsimp\n",
    "\n",
    "L.dot(vect_psi)"
   ]
  },
  {
   "cell_type": "code",
   "execution_count": 40,
   "id": "186e7290-e05d-44dd-8d72-60b2d8f6700b",
   "metadata": {},
   "outputs": [
    {
     "data": {
      "text/latex": [
       "$\\displaystyle J_{3} \\left(\\cos{\\left(\\theta{\\left(t \\right)} \\right)} \\frac{d}{d t} \\phi{\\left(t \\right)} + \\frac{d}{d t} \\psi{\\left(t \\right)}\\right)$"
      ],
      "text/plain": [
       "J_3*(cos(\\theta(t))*Derivative(\\phi(t), t) + Derivative(\\psi(t), t))"
      ]
     },
     "execution_count": 40,
     "metadata": {},
     "output_type": "execute_result"
    }
   ],
   "source": [
    "trigsimp(L.dot(vect_phi))"
   ]
  },
  {
   "cell_type": "code",
   "execution_count": 41,
   "id": "0f081c2e-39a3-495a-9ce2-f87e1a317d5e",
   "metadata": {},
   "outputs": [
    {
     "data": {
      "text/latex": [
       "$\\displaystyle J_{1} \\left(\\sin{\\left(\\phi{\\left(t \\right)} + \\psi{\\left(t \\right)} \\right)} \\sin{\\left(\\theta{\\left(t \\right)} \\right)} \\frac{d}{d t} \\phi{\\left(t \\right)} + \\cos{\\left(\\phi{\\left(t \\right)} + \\psi{\\left(t \\right)} \\right)} \\frac{d}{d t} \\theta{\\left(t \\right)}\\right)$"
      ],
      "text/plain": [
       "J_1*(sin(\\phi(t) + \\psi(t))*sin(\\theta(t))*Derivative(\\phi(t), t) + cos(\\phi(t) + \\psi(t))*Derivative(\\theta(t), t))"
      ]
     },
     "execution_count": 41,
     "metadata": {},
     "output_type": "execute_result"
    }
   ],
   "source": [
    "trigsimp(L.dot(vect_the))"
   ]
  },
  {
   "cell_type": "code",
   "execution_count": 43,
   "id": "e11fee3e-0758-4124-84b2-270b2a8bc087",
   "metadata": {},
   "outputs": [
    {
     "data": {
      "text/latex": [
       "$\\displaystyle - \\left(- \\sin{\\left(\\psi{\\left(t \\right)} \\right)} \\frac{d}{d t} \\theta{\\left(t \\right)} + \\sin{\\left(\\theta{\\left(t \\right)} \\right)} \\cos{\\left(\\psi{\\left(t \\right)} \\right)} \\frac{d}{d t} \\phi{\\left(t \\right)}\\right) \\sin{\\left(\\theta{\\left(t \\right)} \\right)} \\cos{\\left(\\phi{\\left(t \\right)} \\right)} + \\left(\\cos{\\left(\\theta{\\left(t \\right)} \\right)} \\frac{d}{d t} \\phi{\\left(t \\right)} + \\frac{d}{d t} \\psi{\\left(t \\right)}\\right) \\cos{\\left(\\theta{\\left(t \\right)} \\right)} + \\left(\\sin{\\left(\\psi{\\left(t \\right)} \\right)} \\sin{\\left(\\theta{\\left(t \\right)} \\right)} \\frac{d}{d t} \\phi{\\left(t \\right)} + \\cos{\\left(\\psi{\\left(t \\right)} \\right)} \\frac{d}{d t} \\theta{\\left(t \\right)}\\right) \\sin{\\left(\\phi{\\left(t \\right)} \\right)} \\sin{\\left(\\theta{\\left(t \\right)} \\right)}$"
      ],
      "text/plain": [
       "-(-sin(\\psi(t))*Derivative(\\theta(t), t) + sin(\\theta(t))*cos(\\psi(t))*Derivative(\\phi(t), t))*sin(\\theta(t))*cos(\\phi(t)) + (cos(\\theta(t))*Derivative(\\phi(t), t) + Derivative(\\psi(t), t))*cos(\\theta(t)) + (sin(\\psi(t))*sin(\\theta(t))*Derivative(\\phi(t), t) + cos(\\psi(t))*Derivative(\\theta(t), t))*sin(\\phi(t))*sin(\\theta(t))"
      ]
     },
     "execution_count": 43,
     "metadata": {},
     "output_type": "execute_result"
    }
   ],
   "source": [
    "omega.dot(vect_psi)"
   ]
  },
  {
   "cell_type": "code",
   "execution_count": null,
   "id": "4dc9a42e-bdcf-40cd-a3ac-9e0720dbb60c",
   "metadata": {},
   "outputs": [],
   "source": []
  },
  {
   "cell_type": "code",
   "execution_count": 44,
   "id": "a3b843dc-17b5-4ead-b17d-f33cb9d5df9b",
   "metadata": {},
   "outputs": [
    {
     "data": {
      "text/latex": [
       "$\\displaystyle \\left[\\begin{matrix}J_{1} \\left(\\sin{\\left(\\psi{\\left(t \\right)} \\right)} \\sin{\\left(\\theta{\\left(t \\right)} \\right)} \\frac{d^{2}}{d t^{2}} \\phi{\\left(t \\right)} + \\sin{\\left(\\psi{\\left(t \\right)} \\right)} \\cos{\\left(\\theta{\\left(t \\right)} \\right)} \\frac{d}{d t} \\phi{\\left(t \\right)} \\frac{d}{d t} \\theta{\\left(t \\right)} - \\sin{\\left(\\psi{\\left(t \\right)} \\right)} \\frac{d}{d t} \\psi{\\left(t \\right)} \\frac{d}{d t} \\theta{\\left(t \\right)} + \\sin{\\left(\\theta{\\left(t \\right)} \\right)} \\cos{\\left(\\psi{\\left(t \\right)} \\right)} \\frac{d}{d t} \\phi{\\left(t \\right)} \\frac{d}{d t} \\psi{\\left(t \\right)} + \\cos{\\left(\\psi{\\left(t \\right)} \\right)} \\frac{d^{2}}{d t^{2}} \\theta{\\left(t \\right)}\\right)\\\\J_{1} \\left(- \\sin{\\left(\\psi{\\left(t \\right)} \\right)} \\sin{\\left(\\theta{\\left(t \\right)} \\right)} \\frac{d}{d t} \\phi{\\left(t \\right)} \\frac{d}{d t} \\psi{\\left(t \\right)} - \\sin{\\left(\\psi{\\left(t \\right)} \\right)} \\frac{d^{2}}{d t^{2}} \\theta{\\left(t \\right)} + \\sin{\\left(\\theta{\\left(t \\right)} \\right)} \\cos{\\left(\\psi{\\left(t \\right)} \\right)} \\frac{d^{2}}{d t^{2}} \\phi{\\left(t \\right)} + \\cos{\\left(\\psi{\\left(t \\right)} \\right)} \\cos{\\left(\\theta{\\left(t \\right)} \\right)} \\frac{d}{d t} \\phi{\\left(t \\right)} \\frac{d}{d t} \\theta{\\left(t \\right)} - \\cos{\\left(\\psi{\\left(t \\right)} \\right)} \\frac{d}{d t} \\psi{\\left(t \\right)} \\frac{d}{d t} \\theta{\\left(t \\right)}\\right)\\\\J_{3} \\left(- \\sin{\\left(\\theta{\\left(t \\right)} \\right)} \\frac{d}{d t} \\phi{\\left(t \\right)} \\frac{d}{d t} \\theta{\\left(t \\right)} + \\cos{\\left(\\theta{\\left(t \\right)} \\right)} \\frac{d^{2}}{d t^{2}} \\phi{\\left(t \\right)} + \\frac{d^{2}}{d t^{2}} \\psi{\\left(t \\right)}\\right)\\end{matrix}\\right]$"
      ],
      "text/plain": [
       "Matrix([\n",
       "[ J_1*(sin(\\psi(t))*sin(\\theta(t))*Derivative(\\phi(t), (t, 2)) + sin(\\psi(t))*cos(\\theta(t))*Derivative(\\phi(t), t)*Derivative(\\theta(t), t) - sin(\\psi(t))*Derivative(\\psi(t), t)*Derivative(\\theta(t), t) + sin(\\theta(t))*cos(\\psi(t))*Derivative(\\phi(t), t)*Derivative(\\psi(t), t) + cos(\\psi(t))*Derivative(\\theta(t), (t, 2)))],\n",
       "[J_1*(-sin(\\psi(t))*sin(\\theta(t))*Derivative(\\phi(t), t)*Derivative(\\psi(t), t) - sin(\\psi(t))*Derivative(\\theta(t), (t, 2)) + sin(\\theta(t))*cos(\\psi(t))*Derivative(\\phi(t), (t, 2)) + cos(\\psi(t))*cos(\\theta(t))*Derivative(\\phi(t), t)*Derivative(\\theta(t), t) - cos(\\psi(t))*Derivative(\\psi(t), t)*Derivative(\\theta(t), t))],\n",
       "[                                                                                                                                                                                    J_3*(-sin(\\theta(t))*Derivative(\\phi(t), t)*Derivative(\\theta(t), t) + cos(\\theta(t))*Derivative(\\phi(t), (t, 2)) + Derivative(\\psi(t), (t, 2)))]])"
      ]
     },
     "execution_count": 44,
     "metadata": {},
     "output_type": "execute_result"
    }
   ],
   "source": [
    "dL_dt = smp.diff(L, t)\n",
    "dL_dt.simplify()\n",
    "dL_dt"
   ]
  },
  {
   "cell_type": "code",
   "execution_count": 21,
   "id": "ff43cd9a-fefb-4767-8b26-daf34a593786",
   "metadata": {},
   "outputs": [
    {
     "data": {
      "text/latex": [
       "$\\displaystyle h^{2} m \\sin^{2}{\\left(\\theta{\\left(t \\right)} \\right)} \\frac{d}{d t} \\phi{\\left(t \\right)}$"
      ],
      "text/plain": [
       "h**2*m*sin(\\theta(t))**2*Derivative(\\phi(t), t)"
      ]
     },
     "execution_count": 21,
     "metadata": {},
     "output_type": "execute_result"
    }
   ],
   "source": [
    "from sympy import trigsimp\n",
    "\n",
    "zzz = L.dot(vect_phi)\n",
    "zzz.simplify()\n",
    "trigsimp(zzz)"
   ]
  },
  {
   "cell_type": "code",
   "execution_count": 50,
   "id": "306de1f2-7761-4e53-811e-e770022eea71",
   "metadata": {},
   "outputs": [
    {
     "data": {
      "text/latex": [
       "$\\displaystyle \\sin{\\left(\\theta{\\left(t \\right)} \\right)} \\frac{d}{d t} \\phi{\\left(t \\right)}$"
      ],
      "text/plain": [
       "sin(\\theta(t))*Derivative(\\phi(t), t)"
      ]
     },
     "execution_count": 50,
     "metadata": {},
     "output_type": "execute_result"
    }
   ],
   "source": [
    "d_vect_psi = smp.diff(vect_psi, t)\n",
    "d_vect_psi.simplify()\n",
    "q = d_vect_psi.dot(vect_the)\n",
    "trigsimp(q)"
   ]
  },
  {
   "cell_type": "code",
   "execution_count": 41,
   "id": "9e53bbe3-ef04-448a-ac2c-fae940302f80",
   "metadata": {},
   "outputs": [
    {
     "data": {
      "text/latex": [
       "$\\displaystyle \\left[\\begin{matrix}0\\\\0\\\\1\\end{matrix}\\right]$"
      ],
      "text/plain": [
       "Matrix([\n",
       "[0],\n",
       "[0],\n",
       "[1]])"
      ]
     },
     "execution_count": 41,
     "metadata": {},
     "output_type": "execute_result"
    }
   ],
   "source": [
    "vect_phi"
   ]
  },
  {
   "cell_type": "code",
   "execution_count": 51,
   "id": "87c010c7-1693-4faa-a314-5e5a6dc2894f",
   "metadata": {},
   "outputs": [
    {
     "data": {
      "text/latex": [
       "$\\displaystyle \\sin{\\left(\\theta{\\left(t \\right)} \\right)} \\frac{d}{d t} \\phi{\\left(t \\right)}$"
      ],
      "text/plain": [
       "sin(\\theta(t))*Derivative(\\phi(t), t)"
      ]
     },
     "execution_count": 51,
     "metadata": {},
     "output_type": "execute_result"
    }
   ],
   "source": [
    "trigsimp(d_vect_psi.dot(vect_the))"
   ]
  },
  {
   "cell_type": "code",
   "execution_count": 52,
   "id": "260f325a-7cdf-4d75-bb44-4fb96b63490f",
   "metadata": {},
   "outputs": [
    {
     "data": {
      "text/latex": [
       "$\\displaystyle 0$"
      ],
      "text/plain": [
       "0"
      ]
     },
     "execution_count": 52,
     "metadata": {},
     "output_type": "execute_result"
    }
   ],
   "source": [
    "trigsimp(d_vect_psi.dot(vect_psi))"
   ]
  },
  {
   "cell_type": "code",
   "execution_count": 53,
   "id": "c6ee0323-dccc-4fc8-a7e8-9912d72acbff",
   "metadata": {},
   "outputs": [
    {
     "data": {
      "text/latex": [
       "$\\displaystyle - \\sin{\\left(\\theta{\\left(t \\right)} \\right)} \\frac{d}{d t} \\theta{\\left(t \\right)}$"
      ],
      "text/plain": [
       "-sin(\\theta(t))*Derivative(\\theta(t), t)"
      ]
     },
     "execution_count": 53,
     "metadata": {},
     "output_type": "execute_result"
    }
   ],
   "source": [
    "trigsimp(d_vect_psi.dot(vect_phi))"
   ]
  },
  {
   "cell_type": "code",
   "execution_count": null,
   "id": "186f8ce5-8e4d-4d0b-ba76-81db70e5ecfc",
   "metadata": {},
   "outputs": [],
   "source": []
  }
 ],
 "metadata": {
  "kernelspec": {
   "display_name": "Python 3 (ipykernel)",
   "language": "python",
   "name": "python3"
  },
  "language_info": {
   "codemirror_mode": {
    "name": "ipython",
    "version": 3
   },
   "file_extension": ".py",
   "mimetype": "text/x-python",
   "name": "python",
   "nbconvert_exporter": "python",
   "pygments_lexer": "ipython3",
   "version": "3.11.5"
  }
 },
 "nbformat": 4,
 "nbformat_minor": 5
}
