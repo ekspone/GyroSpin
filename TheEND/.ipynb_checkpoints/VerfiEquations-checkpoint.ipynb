{
 "cells": [
  {
   "cell_type": "code",
   "execution_count": 1,
   "id": "0683e07c-e40c-4cf9-8509-33cfa4cdb990",
   "metadata": {},
   "outputs": [],
   "source": [
    "import numpy as np\n",
    "import matplotlib.pyplot as plt\n",
    "import sympy as smp\n",
    "from scipy.integrate import odeint\n",
    "import plotly.graph_objects as go\n",
    "from IPython.display import HTML"
   ]
  },
  {
   "cell_type": "code",
   "execution_count": 3,
   "id": "cdd2cbe9-4b8e-4723-b0b0-1d46cf041938",
   "metadata": {},
   "outputs": [],
   "source": [
    "t, h, g, m, x0, p, w, J1, J3 = smp.symbols(r't h g m x_0 \\Phi \\omega J_1, J_3', real=True)\n",
    "the, phi, psi = smp.symbols(r'\\theta \\phi \\psi', cls=smp.Function)\n",
    "the = the(t)\n",
    "phi = phi(t)\n",
    "psi = psi(t)\n",
    "# Derivatives\n",
    "the_d = smp.diff(the,t)\n",
    "phi_d = smp.diff(phi,t)\n",
    "psi_d = smp.diff(psi,t)\n",
    "# Second derivatives\n",
    "the_dd = smp.diff(the_d,t)\n",
    "phi_dd = smp.diff(phi_d,t)\n",
    "psi_dd = smp.diff(psi_d,t)\n",
    "\n",
    "R3 = smp.Matrix([[smp.cos(psi),-smp.sin(psi),0],\n",
    "                 [smp.sin(psi),smp.cos(psi),0],\n",
    "                 [0,0,1]])\n",
    "\n",
    "R2 = smp.Matrix([[1,0,0],\n",
    "                 [0,smp.cos(the),-smp.sin(the)],\n",
    "                 [0,smp.sin(the),smp.cos(the)]])\n",
    "\n",
    "R1 = smp.Matrix([[smp.cos(phi),-smp.sin(phi),0],\n",
    "                 [smp.sin(phi),smp.cos(phi),0],\n",
    "                 [0,0,1]])\n",
    "\n",
    "R = R1*R2*R3\n",
    "\n",
    "omega = smp.Matrix([phi_d*smp.sin(the)*smp.sin(psi)+the_d*smp.cos(psi),\n",
    "                    phi_d*smp.sin(the)*smp.cos(psi)-the_d*smp.sin(psi),\n",
    "                    phi_d*smp.cos(the)+psi_d])\n",
    "\n",
    "I = smp.Matrix([[J1,0,0],[0,J1,0],[0,0,J3]])\n",
    "\n",
    "xc = h * R @ smp.Matrix([0, 0, 1]) + smp.Matrix([x0 * smp.cos(w * t + p), 0, 0])\n",
    "xc.simplify()\n",
    "vc = smp.diff(xc, t)\n",
    "vc.simplify()\n",
    "vc_carre = vc.T.dot(vc)\n",
    "vc_carre.simplify()\n",
    "\n",
    "xc_free = h * R @ smp.Matrix([0, 0, 1])\n",
    "xc_free.simplify()\n",
    "vc_free = smp.diff(xc_free, t)\n",
    "vc_free.simplify()\n",
    "vc_carre_free = vc_free.T.dot(vc_free)\n",
    "vc_carre_free.simplify()\n",
    "\n",
    "\n",
    "# Kinetic, and potential energy\n",
    "T_rot = (smp.Rational(1, 2) * omega.T.dot(I * omega).simplify())  # Rotational kinetic energy\n",
    "T_c = smp.Rational(1, 2) * m * vc_carre  # Translational kinetic energy\n",
    "T_c = T_c.simplify()\n",
    "T = T_c + T_rot  # Total kinetic energy\n",
    "V = m * g * h * smp.cos(the)  # Potential energy (gravitation)\n",
    "\n",
    "T_free = smp.Rational(1, 2) * m * vc_carre_free + T_rot\n",
    "T_free = T_free.simplify()\n",
    "\n",
    "# Lagrangian\n",
    "L = T_free - V\n",
    "L = L.simplify()\n",
    "L_f = T - V\n",
    "L_f = L_f.simplify()\n",
    "\n",
    "genCoordinates = [the, phi, psi]\n",
    "genSpeeds = [the_d, phi_d, psi_d]\n",
    "genAcceleration = [the_dd, phi_dd, psi_dd]\n",
    "\n",
    "R_inverse = R.transpose()"
   ]
  },
  {
   "cell_type": "code",
   "execution_count": 15,
   "id": "a3c0ff77-6c1d-44e6-970e-cf74f5632bec",
   "metadata": {},
   "outputs": [
    {
     "data": {
      "text/latex": [
       "$\\displaystyle \\left[\\begin{matrix}\\sin{\\left(\\phi{\\left(t \\right)} \\right)} \\sin{\\left(\\theta{\\left(t \\right)} \\right)}\\\\- \\sin{\\left(\\theta{\\left(t \\right)} \\right)} \\cos{\\left(\\phi{\\left(t \\right)} \\right)}\\\\\\cos{\\left(\\theta{\\left(t \\right)} \\right)}\\end{matrix}\\right]$"
      ],
      "text/plain": [
       "Matrix([\n",
       "[ sin(\\phi(t))*sin(\\theta(t))],\n",
       "[-sin(\\theta(t))*cos(\\phi(t))],\n",
       "[              cos(\\theta(t))]])"
      ]
     },
     "execution_count": 15,
     "metadata": {},
     "output_type": "execute_result"
    }
   ],
   "source": [
    "PG = R @ smp.Matrix([0,0, 1])\n",
    "PG"
   ]
  },
  {
   "cell_type": "code",
   "execution_count": 59,
   "id": "389ea8da-4aeb-46a0-975c-5578577987bf",
   "metadata": {},
   "outputs": [
    {
     "data": {
      "text/latex": [
       "$\\displaystyle \\left[\\begin{matrix}- \\omega^{2} m x_{0} \\sin{\\left(\\Phi + \\omega t \\right)} \\cos{\\left(\\theta{\\left(t \\right)} \\right)}\\\\\\omega^{2} m x_{0} \\cos{\\left(\\Phi + \\omega t \\right)} \\cos{\\left(\\theta{\\left(t \\right)} \\right)}\\\\\\omega^{2} m x_{0} \\sin{\\left(\\theta{\\left(t \\right)} \\right)} \\cos{\\left(\\Phi + \\omega t - \\phi{\\left(t \\right)} \\right)}\\end{matrix}\\right]$"
      ],
      "text/plain": [
       "Matrix([\n",
       "[         -\\omega**2*m*x_0*sin(\\Phi + \\omega*t)*cos(\\theta(t))],\n",
       "[          \\omega**2*m*x_0*cos(\\Phi + \\omega*t)*cos(\\theta(t))],\n",
       "[\\omega**2*m*x_0*sin(\\theta(t))*cos(\\Phi + \\omega*t - \\phi(t))]])"
      ]
     },
     "execution_count": 59,
     "metadata": {},
     "output_type": "execute_result"
    }
   ],
   "source": [
    "ae = - (w**2) * x0 * smp.Matrix([smp.cos(w*t+p), smp.sin(w*t+p), 0])\n",
    "#ae = - (w**2) * x0 * smp.Matrix([smp.cos(w*t+p), 0, 0])\n",
    "Fe = -m*ae\n",
    "Momentum_Fe = PG.cross(Fe)\n",
    "Momentum_Fe.simplify()\n",
    "Momentum_Fe"
   ]
  },
  {
   "cell_type": "code",
   "execution_count": 60,
   "id": "fe8f4e44-f561-40c9-9df7-c494e8bcaf7d",
   "metadata": {},
   "outputs": [
    {
     "data": {
      "text/latex": [
       "$\\displaystyle \\left[\\begin{matrix}g m \\sin{\\left(\\theta{\\left(t \\right)} \\right)} \\cos{\\left(\\phi{\\left(t \\right)} \\right)}\\\\g m \\sin{\\left(\\phi{\\left(t \\right)} \\right)} \\sin{\\left(\\theta{\\left(t \\right)} \\right)}\\\\0\\end{matrix}\\right]$"
      ],
      "text/plain": [
       "Matrix([\n",
       "[g*m*sin(\\theta(t))*cos(\\phi(t))],\n",
       "[g*m*sin(\\phi(t))*sin(\\theta(t))],\n",
       "[                              0]])"
      ]
     },
     "execution_count": 60,
     "metadata": {},
     "output_type": "execute_result"
    }
   ],
   "source": [
    "P = -m*g*smp.Matrix([0,0,1])\n",
    "Momentum_P = PG.cross(P)\n",
    "Momentum_P.simplify()\n",
    "Momentum_P"
   ]
  },
  {
   "cell_type": "code",
   "execution_count": 61,
   "id": "77e8af6c-db58-4e0d-bec3-30f7871ae636",
   "metadata": {},
   "outputs": [
    {
     "name": "stdout",
     "output_type": "stream",
     "text": [
      "0\n",
      "cos(\\theta(t))\n",
      "0\n"
     ]
    },
    {
     "data": {
      "text/latex": [
       "$\\displaystyle \\left[\\begin{matrix}\\sin{\\left(\\phi{\\left(t \\right)} \\right)} \\sin{\\left(\\theta{\\left(t \\right)} \\right)}\\\\- \\sin{\\left(\\theta{\\left(t \\right)} \\right)} \\cos{\\left(\\phi{\\left(t \\right)} \\right)}\\\\\\cos{\\left(\\theta{\\left(t \\right)} \\right)}\\end{matrix}\\right]$"
      ],
      "text/plain": [
       "Matrix([\n",
       "[ sin(\\phi(t))*sin(\\theta(t))],\n",
       "[-sin(\\theta(t))*cos(\\phi(t))],\n",
       "[              cos(\\theta(t))]])"
      ]
     },
     "execution_count": 61,
     "metadata": {},
     "output_type": "execute_result"
    }
   ],
   "source": [
    "vect_the = R@smp.Matrix([smp.cos(psi), -smp.sin(psi), 0])\n",
    "vect_the.simplify()\n",
    "vect_phi = R@smp.Matrix([smp.sin(the)*smp.sin(psi), smp.sin(the)*smp.cos(psi), smp.cos(the)])\n",
    "vect_phi.simplify()\n",
    "vect_psi = R@smp.Matrix([0, 0, 1])\n",
    "vect_psi.simplify()\n",
    "\n",
    "print(vect_the.dot(vect_phi))\n",
    "print(vect_phi.dot(vect_psi))\n",
    "print(vect_the.dot(vect_psi))\n",
    "\n",
    "vect_psi"
   ]
  },
  {
   "cell_type": "markdown",
   "id": "c8c91d3b-e953-4b83-8db3-f0b8b5856acd",
   "metadata": {},
   "source": [
    "## Composantes du moment du poids :"
   ]
  },
  {
   "cell_type": "code",
   "execution_count": 62,
   "id": "77f99f1c-7ecd-4dac-945c-d57a53ea571a",
   "metadata": {},
   "outputs": [
    {
     "data": {
      "text/latex": [
       "$\\displaystyle g m \\sin{\\left(\\theta{\\left(t \\right)} \\right)}$"
      ],
      "text/plain": [
       "g*m*sin(\\theta(t))"
      ]
     },
     "execution_count": 62,
     "metadata": {},
     "output_type": "execute_result"
    }
   ],
   "source": [
    "Momentum_P.dot(vect_the).simplify()"
   ]
  },
  {
   "cell_type": "code",
   "execution_count": 63,
   "id": "151612d4-1e54-45fe-a2f9-ec1002d8f3ba",
   "metadata": {},
   "outputs": [
    {
     "data": {
      "text/latex": [
       "$\\displaystyle 0$"
      ],
      "text/plain": [
       "0"
      ]
     },
     "execution_count": 63,
     "metadata": {},
     "output_type": "execute_result"
    }
   ],
   "source": [
    "Momentum_P.dot(vect_phi).simplify()"
   ]
  },
  {
   "cell_type": "code",
   "execution_count": 64,
   "id": "131f9813-4d7e-418c-afe1-b31a8a7685b5",
   "metadata": {},
   "outputs": [
    {
     "data": {
      "text/latex": [
       "$\\displaystyle 0$"
      ],
      "text/plain": [
       "0"
      ]
     },
     "execution_count": 64,
     "metadata": {},
     "output_type": "execute_result"
    }
   ],
   "source": [
    "Momentum_P.dot(vect_psi).simplify()"
   ]
  },
  {
   "cell_type": "markdown",
   "id": "4a52d142-fbde-42e0-bf2e-65103a843ac8",
   "metadata": {},
   "source": [
    "## Composantes de la force centrifuge :"
   ]
  },
  {
   "cell_type": "code",
   "execution_count": 65,
   "id": "fd2428e1-36cd-4a70-9efa-cc1ad2a84fee",
   "metadata": {},
   "outputs": [
    {
     "data": {
      "text/latex": [
       "$\\displaystyle - \\omega^{2} m x_{0} \\sin{\\left(\\Phi + \\omega t - \\phi{\\left(t \\right)} \\right)} \\cos{\\left(\\theta{\\left(t \\right)} \\right)}$"
      ],
      "text/plain": [
       "-\\omega**2*m*x_0*sin(\\Phi + \\omega*t - \\phi(t))*cos(\\theta(t))"
      ]
     },
     "execution_count": 65,
     "metadata": {},
     "output_type": "execute_result"
    }
   ],
   "source": [
    "Momentum_Fe.dot(vect_the).simplify()"
   ]
  },
  {
   "cell_type": "code",
   "execution_count": 66,
   "id": "09494637-4a97-42e8-9473-4acd361e3154",
   "metadata": {},
   "outputs": [
    {
     "data": {
      "text/latex": [
       "$\\displaystyle \\omega^{2} m x_{0} \\sin{\\left(\\theta{\\left(t \\right)} \\right)} \\cos{\\left(\\Phi + \\omega t - \\phi{\\left(t \\right)} \\right)}$"
      ],
      "text/plain": [
       "\\omega**2*m*x_0*sin(\\theta(t))*cos(\\Phi + \\omega*t - \\phi(t))"
      ]
     },
     "execution_count": 66,
     "metadata": {},
     "output_type": "execute_result"
    }
   ],
   "source": [
    "Momentum_Fe.dot(vect_phi).simplify()"
   ]
  },
  {
   "cell_type": "code",
   "execution_count": 67,
   "id": "d090c32b-e89c-4c11-ae34-e75d68888f92",
   "metadata": {},
   "outputs": [
    {
     "data": {
      "text/latex": [
       "$\\displaystyle 0$"
      ],
      "text/plain": [
       "0"
      ]
     },
     "execution_count": 67,
     "metadata": {},
     "output_type": "execute_result"
    }
   ],
   "source": [
    "Momentum_Fe.dot(vect_psi).simplify()"
   ]
  },
  {
   "cell_type": "code",
   "execution_count": 69,
   "id": "63b88813-136b-4621-ba3a-aa9d5e5bb1ca",
   "metadata": {},
   "outputs": [
    {
     "data": {
      "text/latex": [
       "$\\displaystyle \\left[\\begin{matrix}\\sin{\\left(\\phi{\\left(t \\right)} \\right)} \\cos{\\left(\\theta{\\left(t \\right)} \\right)} \\frac{d}{d t} \\theta{\\left(t \\right)} + \\sin{\\left(\\theta{\\left(t \\right)} \\right)} \\cos{\\left(\\phi{\\left(t \\right)} \\right)} \\frac{d}{d t} \\phi{\\left(t \\right)}\\\\\\sin{\\left(\\phi{\\left(t \\right)} \\right)} \\sin{\\left(\\theta{\\left(t \\right)} \\right)} \\frac{d}{d t} \\phi{\\left(t \\right)} - \\cos{\\left(\\phi{\\left(t \\right)} \\right)} \\cos{\\left(\\theta{\\left(t \\right)} \\right)} \\frac{d}{d t} \\theta{\\left(t \\right)}\\\\- \\sin{\\left(\\theta{\\left(t \\right)} \\right)} \\frac{d}{d t} \\theta{\\left(t \\right)}\\end{matrix}\\right]$"
      ],
      "text/plain": [
       "Matrix([\n",
       "[sin(\\phi(t))*cos(\\theta(t))*Derivative(\\theta(t), t) + sin(\\theta(t))*cos(\\phi(t))*Derivative(\\phi(t), t)],\n",
       "[sin(\\phi(t))*sin(\\theta(t))*Derivative(\\phi(t), t) - cos(\\phi(t))*cos(\\theta(t))*Derivative(\\theta(t), t)],\n",
       "[                                                                 -sin(\\theta(t))*Derivative(\\theta(t), t)]])"
      ]
     },
     "execution_count": 69,
     "metadata": {},
     "output_type": "execute_result"
    }
   ],
   "source": [
    "v = smp.diff(PG, t)\n",
    "v.simplify()\n",
    "v"
   ]
  },
  {
   "cell_type": "code",
   "execution_count": 81,
   "id": "8433d0d9-d2b5-4f9e-8b49-373561e34d69",
   "metadata": {},
   "outputs": [
    {
     "data": {
      "text/latex": [
       "$\\displaystyle \\left[\\begin{matrix}- \\left(\\sin{\\left(\\phi{\\left(t \\right)} \\right)} \\sin{\\left(\\theta{\\left(t \\right)} \\right)} \\frac{d}{d t} \\phi{\\left(t \\right)} - \\cos{\\left(\\phi{\\left(t \\right)} \\right)} \\cos{\\left(\\theta{\\left(t \\right)} \\right)} \\frac{d}{d t} \\theta{\\left(t \\right)}\\right) \\cos{\\left(\\theta{\\left(t \\right)} \\right)} + \\sin^{2}{\\left(\\theta{\\left(t \\right)} \\right)} \\cos{\\left(\\phi{\\left(t \\right)} \\right)} \\frac{d}{d t} \\theta{\\left(t \\right)}\\\\\\left(\\sin{\\left(\\phi{\\left(t \\right)} \\right)} \\cos{\\left(\\theta{\\left(t \\right)} \\right)} \\frac{d}{d t} \\theta{\\left(t \\right)} + \\sin{\\left(\\theta{\\left(t \\right)} \\right)} \\cos{\\left(\\phi{\\left(t \\right)} \\right)} \\frac{d}{d t} \\phi{\\left(t \\right)}\\right) \\cos{\\left(\\theta{\\left(t \\right)} \\right)} + \\sin{\\left(\\phi{\\left(t \\right)} \\right)} \\sin^{2}{\\left(\\theta{\\left(t \\right)} \\right)} \\frac{d}{d t} \\theta{\\left(t \\right)}\\\\\\left(\\sin{\\left(\\phi{\\left(t \\right)} \\right)} \\sin{\\left(\\theta{\\left(t \\right)} \\right)} \\frac{d}{d t} \\phi{\\left(t \\right)} - \\cos{\\left(\\phi{\\left(t \\right)} \\right)} \\cos{\\left(\\theta{\\left(t \\right)} \\right)} \\frac{d}{d t} \\theta{\\left(t \\right)}\\right) \\sin{\\left(\\phi{\\left(t \\right)} \\right)} \\sin{\\left(\\theta{\\left(t \\right)} \\right)} + \\left(\\sin{\\left(\\phi{\\left(t \\right)} \\right)} \\cos{\\left(\\theta{\\left(t \\right)} \\right)} \\frac{d}{d t} \\theta{\\left(t \\right)} + \\sin{\\left(\\theta{\\left(t \\right)} \\right)} \\cos{\\left(\\phi{\\left(t \\right)} \\right)} \\frac{d}{d t} \\phi{\\left(t \\right)}\\right) \\sin{\\left(\\theta{\\left(t \\right)} \\right)} \\cos{\\left(\\phi{\\left(t \\right)} \\right)}\\end{matrix}\\right]$"
      ],
      "text/plain": [
       "Matrix([\n",
       "[                                                                                            -(sin(\\phi(t))*sin(\\theta(t))*Derivative(\\phi(t), t) - cos(\\phi(t))*cos(\\theta(t))*Derivative(\\theta(t), t))*cos(\\theta(t)) + sin(\\theta(t))**2*cos(\\phi(t))*Derivative(\\theta(t), t)],\n",
       "[                                                                                             (sin(\\phi(t))*cos(\\theta(t))*Derivative(\\theta(t), t) + sin(\\theta(t))*cos(\\phi(t))*Derivative(\\phi(t), t))*cos(\\theta(t)) + sin(\\phi(t))*sin(\\theta(t))**2*Derivative(\\theta(t), t)],\n",
       "[(sin(\\phi(t))*sin(\\theta(t))*Derivative(\\phi(t), t) - cos(\\phi(t))*cos(\\theta(t))*Derivative(\\theta(t), t))*sin(\\phi(t))*sin(\\theta(t)) + (sin(\\phi(t))*cos(\\theta(t))*Derivative(\\theta(t), t) + sin(\\theta(t))*cos(\\phi(t))*Derivative(\\phi(t), t))*sin(\\theta(t))*cos(\\phi(t))]])"
      ]
     },
     "execution_count": 81,
     "metadata": {},
     "output_type": "execute_result"
    }
   ],
   "source": [
    "L = PG.cross(v)\n",
    "L"
   ]
  },
  {
   "cell_type": "code",
   "execution_count": 86,
   "id": "ff43cd9a-fefb-4767-8b26-daf34a593786",
   "metadata": {},
   "outputs": [
    {
     "data": {
      "text/latex": [
       "$\\displaystyle \\sin^{2}{\\left(\\theta{\\left(t \\right)} \\right)} \\frac{d}{d t} \\phi{\\left(t \\right)}$"
      ],
      "text/plain": [
       "sin(\\theta(t))**2*Derivative(\\phi(t), t)"
      ]
     },
     "execution_count": 86,
     "metadata": {},
     "output_type": "execute_result"
    }
   ],
   "source": [
    "from sympy import trigsimp\n",
    "\n",
    "zzz = L.dot(vect_phi)\n",
    "zzz.simplify()\n",
    "trigsimp(zzz)"
   ]
  },
  {
   "cell_type": "code",
   "execution_count": 98,
   "id": "d86a58c4-80a7-4d13-b189-70c0944cfc78",
   "metadata": {},
   "outputs": [
    {
     "data": {
      "text/latex": [
       "$\\displaystyle \\left[\\begin{matrix}0\\\\0\\\\\\omega\\end{matrix}\\right]$"
      ],
      "text/plain": [
       "Matrix([\n",
       "[     0],\n",
       "[     0],\n",
       "[\\omega]])"
      ]
     },
     "execution_count": 98,
     "metadata": {},
     "output_type": "execute_result"
    }
   ],
   "source": [
    "uuu = R @ omega\n",
    "uuu = smp.Matrix([0, 0, w])\n",
    "uuu.simplify()\n",
    "uuu"
   ]
  },
  {
   "cell_type": "code",
   "execution_count": 104,
   "id": "71419cc8-06dd-4312-8073-3bb5a85acaca",
   "metadata": {},
   "outputs": [
    {
     "data": {
      "text/latex": [
       "$\\displaystyle \\left[\\begin{matrix}- \\omega \\left(\\left(\\sin{\\left(\\phi{\\left(t \\right)} \\right)} \\cos{\\left(\\theta{\\left(t \\right)} \\right)} \\frac{d}{d t} \\theta{\\left(t \\right)} + \\sin{\\left(\\theta{\\left(t \\right)} \\right)} \\cos{\\left(\\phi{\\left(t \\right)} \\right)} \\frac{d}{d t} \\phi{\\left(t \\right)}\\right) \\cos{\\left(\\theta{\\left(t \\right)} \\right)} + \\sin{\\left(\\phi{\\left(t \\right)} \\right)} \\sin^{2}{\\left(\\theta{\\left(t \\right)} \\right)} \\frac{d}{d t} \\theta{\\left(t \\right)}\\right)\\\\\\omega \\left(- \\left(\\sin{\\left(\\phi{\\left(t \\right)} \\right)} \\sin{\\left(\\theta{\\left(t \\right)} \\right)} \\frac{d}{d t} \\phi{\\left(t \\right)} - \\cos{\\left(\\phi{\\left(t \\right)} \\right)} \\cos{\\left(\\theta{\\left(t \\right)} \\right)} \\frac{d}{d t} \\theta{\\left(t \\right)}\\right) \\cos{\\left(\\theta{\\left(t \\right)} \\right)} + \\sin^{2}{\\left(\\theta{\\left(t \\right)} \\right)} \\cos{\\left(\\phi{\\left(t \\right)} \\right)} \\frac{d}{d t} \\theta{\\left(t \\right)}\\right)\\\\0\\end{matrix}\\right]$"
      ],
      "text/plain": [
       "Matrix([\n",
       "[-\\omega*((sin(\\phi(t))*cos(\\theta(t))*Derivative(\\theta(t), t) + sin(\\theta(t))*cos(\\phi(t))*Derivative(\\phi(t), t))*cos(\\theta(t)) + sin(\\phi(t))*sin(\\theta(t))**2*Derivative(\\theta(t), t))],\n",
       "[\\omega*(-(sin(\\phi(t))*sin(\\theta(t))*Derivative(\\phi(t), t) - cos(\\phi(t))*cos(\\theta(t))*Derivative(\\theta(t), t))*cos(\\theta(t)) + sin(\\theta(t))**2*cos(\\phi(t))*Derivative(\\theta(t), t))],\n",
       "[                                                                                                                                                                                             0]])"
      ]
     },
     "execution_count": 104,
     "metadata": {},
     "output_type": "execute_result"
    }
   ],
   "source": [
    "dd = uuu.cross(L)\n",
    "#trigsimp(dd)\n",
    "dd"
   ]
  },
  {
   "cell_type": "code",
   "execution_count": null,
   "id": "306de1f2-7761-4e53-811e-e770022eea71",
   "metadata": {},
   "outputs": [],
   "source": []
  }
 ],
 "metadata": {
  "kernelspec": {
   "display_name": "Python 3 (ipykernel)",
   "language": "python",
   "name": "python3"
  },
  "language_info": {
   "codemirror_mode": {
    "name": "ipython",
    "version": 3
   },
   "file_extension": ".py",
   "mimetype": "text/x-python",
   "name": "python",
   "nbconvert_exporter": "python",
   "pygments_lexer": "ipython3",
   "version": "3.11.5"
  }
 },
 "nbformat": 4,
 "nbformat_minor": 5
}
