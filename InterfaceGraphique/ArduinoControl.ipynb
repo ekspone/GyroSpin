{
 "cells": [
  {
   "cell_type": "code",
   "execution_count": 1,
   "id": "231aecd6-f9dc-48d2-9225-4d8909c5b495",
   "metadata": {},
   "outputs": [
    {
     "name": "stdout",
     "output_type": "stream",
     "text": [
      "Invalid value of Freq\n",
      "None\n",
      "StartingDrive\n",
      "19.9\n"
     ]
    },
    {
     "ename": "SystemExit",
     "evalue": "0",
     "output_type": "error",
     "traceback": [
      "An exception has occurred, use %tb to see the full traceback.\n",
      "\u001b[0;31mSystemExit\u001b[0m\u001b[0;31m:\u001b[0m 0\n"
     ]
    },
    {
     "name": "stderr",
     "output_type": "stream",
     "text": [
      "/Users/bradaizakaria/Documents/venvL3/envL3/lib/python3.11/site-packages/IPython/core/interactiveshell.py:3534: UserWarning: To exit: use 'exit', 'quit', or Ctrl-D.\n",
      "  warn(\"To exit: use 'exit', 'quit', or Ctrl-D.\", stacklevel=1)\n"
     ]
    }
   ],
   "source": [
    "import sys\n",
    "from PyQt6.QtGui import *\n",
    "from PyQt6.QtWidgets import *\n",
    "from PyQt6.QtCore import *\n",
    "import cv2\n",
    "\n",
    "class ArduinoSettings_Widget(QWidget):\n",
    "    def __init__(self):\n",
    "        super(ArduinoSettings_Widget, self).__init__()\n",
    "        #self.resize(1000, 1000)\n",
    "\n",
    "        self.setWindowTitle(\"Arduino Control Panel - GyroSpin App\")\n",
    "\n",
    "        #---   Layout total ---#\n",
    "        self.LayoutTotal = QVBoxLayout()\n",
    "\n",
    "\n",
    "        self.FreqHBLyout = QHBoxLayout()\n",
    "        self.FreqLabel = QLabel('Drive Frequency (Hz) :')\n",
    "        self.FreqLineEdit = QLineEdit()\n",
    "        #self.FreqEditButton = QPushButton('Edit Drive Frequency')\n",
    "        self.FreqHBLyout.addWidget(self.FreqLabel)\n",
    "        self.FreqHBLyout.addWidget(self.FreqLineEdit)\n",
    "        #self.FreqHBLyout.addWidget(self.FreqEditButton)\n",
    "        # No Need\n",
    "\n",
    "        self.LayoutTotal.addLayout(self.FreqHBLyout)\n",
    "\n",
    "        self.EmptySpace1 = QLabel()\n",
    "        self.LayoutTotal.addWidget(self.EmptySpace1)\n",
    "\n",
    "        self.StartDriveBTN = QPushButton('Start Drive')\n",
    "        self.StartDriveBTN.clicked.connect(self.StartDrive)\n",
    "        self.LayoutTotal.addWidget(self.StartDriveBTN)\n",
    "    \n",
    "        self.EmptySpace2 = QLabel()\n",
    "        self.LayoutTotal.addWidget(self.EmptySpace2)\n",
    "\n",
    "        self.PhaseHBLayout = QHBoxLayout()\n",
    "        self.PhaseLabel = QLabel('Estimated Phase (degrees) :')\n",
    "        self.PhaseValue = QLabel()\n",
    "        self.PhaseHBLayout.addWidget(self.PhaseLabel)\n",
    "        self.PhaseHBLayout.addWidget(self.PhaseValue)\n",
    "\n",
    "        self.LayoutTotal.addLayout(self.PhaseHBLayout)\n",
    "\n",
    "        self.setLayout(self.LayoutTotal)\n",
    "\n",
    "        self.Freq = None\n",
    "        self.Phase = None\n",
    "        self.FreqLineEdit.setText(\"None\")\n",
    "        self.PhaseValue.setText(\"None\")\n",
    "        \n",
    "\n",
    "    def ComputePhase(self):\n",
    "        '''Calcul de la phase.'''\n",
    "        return None\n",
    "\n",
    "    def StartDrive(self):\n",
    "        '''Lance le forçage.'''\n",
    "        self.ComputePhase()\n",
    "        try:\n",
    "            self.Freq = float(self.FreqLineEdit.text())\n",
    "            print(\"Starting Drive\")\n",
    "        except:\n",
    "            self.Freq = None\n",
    "            print(\"Invalid value of Freq\")\n",
    "        print(self.Freq)\n",
    "\n",
    "\n",
    "\n",
    "if __name__ == \"__main__\":\n",
    "    App = QApplication(sys.argv)\n",
    "    Root = ArduinoSettings_Widget()\n",
    "    Root.show()\n",
    "    sys.exit(App.exec())    \n",
    "        \n",
    "        "
   ]
  },
  {
   "cell_type": "code",
   "execution_count": null,
   "id": "44fed074-9c86-4111-9c17-0e343a947efd",
   "metadata": {},
   "outputs": [],
   "source": []
  }
 ],
 "metadata": {
  "kernelspec": {
   "display_name": "Python 3 (ipykernel)",
   "language": "python",
   "name": "python3"
  },
  "language_info": {
   "codemirror_mode": {
    "name": "ipython",
    "version": 3
   },
   "file_extension": ".py",
   "mimetype": "text/x-python",
   "name": "python",
   "nbconvert_exporter": "python",
   "pygments_lexer": "ipython3",
   "version": "3.11.5"
  }
 },
 "nbformat": 4,
 "nbformat_minor": 5
}
