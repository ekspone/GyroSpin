{
 "cells": [
  {
   "cell_type": "code",
   "execution_count": 1,
   "id": "3c572ca5-7094-4c1a-9fd4-ee34ed186534",
   "metadata": {},
   "outputs": [
    {
     "name": "stderr",
     "output_type": "stream",
     "text": [
      "/var/folders/1x/_zg1d4r16ng58199rv6hf6fw0000gn/T/ipykernel_26091/2633960077.py:5: DeprecationWarning: sipPyTypeDict() is deprecated, the extension module should use sipPyTypeDictRef() instead\n",
      "  class AAA(QMainWindow):\n"
     ]
    },
    {
     "ename": "SystemExit",
     "evalue": "0",
     "output_type": "error",
     "traceback": [
      "An exception has occurred, use %tb to see the full traceback.\n",
      "\u001b[0;31mSystemExit\u001b[0m\u001b[0;31m:\u001b[0m 0\n"
     ]
    },
    {
     "name": "stderr",
     "output_type": "stream",
     "text": [
      "/Users/bradaizakaria/Documents/venvL3/envL3/lib/python3.11/site-packages/IPython/core/interactiveshell.py:3534: UserWarning: To exit: use 'exit', 'quit', or Ctrl-D.\n",
      "  warn(\"To exit: use 'exit', 'quit', or Ctrl-D.\", stacklevel=1)\n"
     ]
    }
   ],
   "source": [
    "from PyQt5.QtWidgets import *\n",
    "from PyQt5.QtGui import QPixmap\n",
    "import sys\n",
    " \n",
    "class AAA(QMainWindow):\n",
    "    def __init__(self):\n",
    "        super().__init__()\n",
    " \n",
    "        self.acceptDrops()\n",
    "        # set the title\n",
    "        self.setWindowTitle(\"LOGO SPRINT SU.jpeg\")\n",
    " \n",
    "        # setting  the geometry of window\n",
    "        self.setGeometry(0, 0, 400, 300)\n",
    " \n",
    "        # creating label\n",
    "        self.label = QLabel(self)\n",
    "         \n",
    "        # loading image\n",
    "        pixmap = QPixmap('LOGO SPRINT SU')\n",
    "        smaller_pixmap = pixmap.scaled(32, 32)#, Qt.KeepAspectRatio, Qt.FastTransformation)\n",
    "\n",
    "        self.pixmap = smaller_pixmap\n",
    " \n",
    "        # adding image to label\n",
    "        self.label.setPixmap(self.pixmap)\n",
    " \n",
    "        # Optional, resize label to image size\n",
    "        self.label.resize(self.pixmap.width(),\n",
    "                          self.pixmap.height())\n",
    "\n",
    "        self.show()\n",
    " \n",
    "        \n",
    " \n",
    "if __name__ == \"__main__\":\n",
    "    App = QApplication(sys.argv)\n",
    "    Root = AAA()\n",
    "    sys.exit(App.exec())"
   ]
  },
  {
   "cell_type": "code",
   "execution_count": null,
   "id": "799cfe07-6fa0-430e-b157-1a624c0324ba",
   "metadata": {},
   "outputs": [],
   "source": []
  }
 ],
 "metadata": {
  "kernelspec": {
   "display_name": "Python 3 (ipykernel)",
   "language": "python",
   "name": "python3"
  },
  "language_info": {
   "codemirror_mode": {
    "name": "ipython",
    "version": 3
   },
   "file_extension": ".py",
   "mimetype": "text/x-python",
   "name": "python",
   "nbconvert_exporter": "python",
   "pygments_lexer": "ipython3",
   "version": "3.11.5"
  }
 },
 "nbformat": 4,
 "nbformat_minor": 5
}
