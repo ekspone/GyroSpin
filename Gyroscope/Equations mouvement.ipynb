{
 "cells": [
  {
   "cell_type": "code",
   "execution_count": 1,
   "id": "ce72b227-9cc4-4f93-bfa9-7c31b1cb7095",
   "metadata": {},
   "outputs": [],
   "source": [
    "import numpy as np\n",
    "import matplotlib.pyplot as plt\n",
    "import sympy as smp\n",
    "from scipy.integrate import odeint\n",
    "import plotly.graph_objects as go\n",
    "from IPython.display import HTML"
   ]
  },
  {
   "cell_type": "code",
   "execution_count": 2,
   "id": "cbef8aa5-18a0-4286-b1ae-e744c82aa7ce",
   "metadata": {},
   "outputs": [
    {
     "data": {
      "text/latex": [
       "$\\displaystyle \\left[\\begin{matrix}- \\sin{\\left(\\phi{\\left(t \\right)} \\right)} \\sin{\\left(\\psi{\\left(t \\right)} \\right)} \\cos{\\left(\\theta{\\left(t \\right)} \\right)} + \\cos{\\left(\\phi{\\left(t \\right)} \\right)} \\cos{\\left(\\psi{\\left(t \\right)} \\right)} & - \\sin{\\left(\\phi{\\left(t \\right)} \\right)} \\cos{\\left(\\psi{\\left(t \\right)} \\right)} \\cos{\\left(\\theta{\\left(t \\right)} \\right)} - \\sin{\\left(\\psi{\\left(t \\right)} \\right)} \\cos{\\left(\\phi{\\left(t \\right)} \\right)} & \\sin{\\left(\\phi{\\left(t \\right)} \\right)} \\sin{\\left(\\theta{\\left(t \\right)} \\right)}\\\\\\sin{\\left(\\phi{\\left(t \\right)} \\right)} \\cos{\\left(\\psi{\\left(t \\right)} \\right)} + \\sin{\\left(\\psi{\\left(t \\right)} \\right)} \\cos{\\left(\\phi{\\left(t \\right)} \\right)} \\cos{\\left(\\theta{\\left(t \\right)} \\right)} & - \\sin{\\left(\\phi{\\left(t \\right)} \\right)} \\sin{\\left(\\psi{\\left(t \\right)} \\right)} + \\cos{\\left(\\phi{\\left(t \\right)} \\right)} \\cos{\\left(\\psi{\\left(t \\right)} \\right)} \\cos{\\left(\\theta{\\left(t \\right)} \\right)} & - \\sin{\\left(\\theta{\\left(t \\right)} \\right)} \\cos{\\left(\\phi{\\left(t \\right)} \\right)}\\\\\\sin{\\left(\\psi{\\left(t \\right)} \\right)} \\sin{\\left(\\theta{\\left(t \\right)} \\right)} & \\sin{\\left(\\theta{\\left(t \\right)} \\right)} \\cos{\\left(\\psi{\\left(t \\right)} \\right)} & \\cos{\\left(\\theta{\\left(t \\right)} \\right)}\\end{matrix}\\right]$"
      ],
      "text/plain": [
       "Matrix([\n",
       "[-sin(\\phi(t))*sin(\\psi(t))*cos(\\theta(t)) + cos(\\phi(t))*cos(\\psi(t)), -sin(\\phi(t))*cos(\\psi(t))*cos(\\theta(t)) - sin(\\psi(t))*cos(\\phi(t)),  sin(\\phi(t))*sin(\\theta(t))],\n",
       "[ sin(\\phi(t))*cos(\\psi(t)) + sin(\\psi(t))*cos(\\phi(t))*cos(\\theta(t)), -sin(\\phi(t))*sin(\\psi(t)) + cos(\\phi(t))*cos(\\psi(t))*cos(\\theta(t)), -sin(\\theta(t))*cos(\\phi(t))],\n",
       "[                                          sin(\\psi(t))*sin(\\theta(t)),                                           sin(\\theta(t))*cos(\\psi(t)),               cos(\\theta(t))]])"
      ]
     },
     "execution_count": 2,
     "metadata": {},
     "output_type": "execute_result"
    }
   ],
   "source": [
    "t, h, g, m, w, x0, p = smp.symbols('t h g m \\omega x_0 \\Phi', real=True)\n",
    "the, phi, psi = smp.symbols(r'\\theta \\phi \\psi', cls=smp.Function)\n",
    "the = the(t)\n",
    "phi = phi(t)\n",
    "psi = psi(t)\n",
    "# Derivatives\n",
    "the_d = smp.diff(the,t)\n",
    "phi_d = smp.diff(phi,t)\n",
    "psi_d = smp.diff(psi,t)\n",
    "# Second derivatives\n",
    "the_dd = smp.diff(the_d,t)\n",
    "phi_dd = smp.diff(phi_d,t)\n",
    "psi_dd = smp.diff(psi_d,t)\n",
    "\n",
    "R3 = smp.Matrix([[smp.cos(psi),-smp.sin(psi),0],\n",
    "                 [smp.sin(psi),smp.cos(psi),0],\n",
    "                 [0,0,1]])\n",
    "\n",
    "R2 = smp.Matrix([[1,0,0],\n",
    "                 [0,smp.cos(the),-smp.sin(the)],\n",
    "                 [0,smp.sin(the),smp.cos(the)]])\n",
    "\n",
    "R1 = smp.Matrix([[smp.cos(phi),-smp.sin(phi),0],\n",
    "                 [smp.sin(phi),smp.cos(phi),0],\n",
    "                 [0,0,1]])\n",
    "\n",
    "R = R1*R2*R3 # beta to beta_prime\n",
    "R_inverse = R.T\n",
    "R"
   ]
  },
  {
   "cell_type": "code",
   "execution_count": 3,
   "id": "9c895fbb-16c2-4ebe-b294-b5e205d94850",
   "metadata": {},
   "outputs": [
    {
     "data": {
      "text/latex": [
       "$\\displaystyle \\left[\\begin{matrix}- \\sin{\\left(\\phi{\\left(t \\right)} \\right)} \\sin{\\left(\\psi{\\left(t \\right)} \\right)} \\cos{\\left(\\theta{\\left(t \\right)} \\right)} + \\cos{\\left(\\phi{\\left(t \\right)} \\right)} \\cos{\\left(\\psi{\\left(t \\right)} \\right)} & \\sin{\\left(\\phi{\\left(t \\right)} \\right)} \\cos{\\left(\\psi{\\left(t \\right)} \\right)} + \\sin{\\left(\\psi{\\left(t \\right)} \\right)} \\cos{\\left(\\phi{\\left(t \\right)} \\right)} \\cos{\\left(\\theta{\\left(t \\right)} \\right)} & \\sin{\\left(\\psi{\\left(t \\right)} \\right)} \\sin{\\left(\\theta{\\left(t \\right)} \\right)}\\\\- \\sin{\\left(\\phi{\\left(t \\right)} \\right)} \\cos{\\left(\\psi{\\left(t \\right)} \\right)} \\cos{\\left(\\theta{\\left(t \\right)} \\right)} - \\sin{\\left(\\psi{\\left(t \\right)} \\right)} \\cos{\\left(\\phi{\\left(t \\right)} \\right)} & - \\sin{\\left(\\phi{\\left(t \\right)} \\right)} \\sin{\\left(\\psi{\\left(t \\right)} \\right)} + \\cos{\\left(\\phi{\\left(t \\right)} \\right)} \\cos{\\left(\\psi{\\left(t \\right)} \\right)} \\cos{\\left(\\theta{\\left(t \\right)} \\right)} & \\sin{\\left(\\theta{\\left(t \\right)} \\right)} \\cos{\\left(\\psi{\\left(t \\right)} \\right)}\\\\\\sin{\\left(\\phi{\\left(t \\right)} \\right)} \\sin{\\left(\\theta{\\left(t \\right)} \\right)} & - \\sin{\\left(\\theta{\\left(t \\right)} \\right)} \\cos{\\left(\\phi{\\left(t \\right)} \\right)} & \\cos{\\left(\\theta{\\left(t \\right)} \\right)}\\end{matrix}\\right]$"
      ],
      "text/plain": [
       "Matrix([\n",
       "[-sin(\\phi(t))*sin(\\psi(t))*cos(\\theta(t)) + cos(\\phi(t))*cos(\\psi(t)),  sin(\\phi(t))*cos(\\psi(t)) + sin(\\psi(t))*cos(\\phi(t))*cos(\\theta(t)), sin(\\psi(t))*sin(\\theta(t))],\n",
       "[-sin(\\phi(t))*cos(\\psi(t))*cos(\\theta(t)) - sin(\\psi(t))*cos(\\phi(t)), -sin(\\phi(t))*sin(\\psi(t)) + cos(\\phi(t))*cos(\\psi(t))*cos(\\theta(t)), sin(\\theta(t))*cos(\\psi(t))],\n",
       "[                                          sin(\\phi(t))*sin(\\theta(t)),                                          -sin(\\theta(t))*cos(\\phi(t)),              cos(\\theta(t))]])"
      ]
     },
     "execution_count": 3,
     "metadata": {},
     "output_type": "execute_result"
    }
   ],
   "source": [
    "R_inverse"
   ]
  },
  {
   "cell_type": "code",
   "execution_count": 4,
   "id": "1ca35de9-670f-4c47-babb-7900cca7254d",
   "metadata": {},
   "outputs": [
    {
     "data": {
      "text/latex": [
       "$\\displaystyle \\left[\\begin{matrix}\\sin{\\left(\\psi{\\left(t \\right)} \\right)} \\sin{\\left(\\theta{\\left(t \\right)} \\right)} \\frac{d}{d t} \\phi{\\left(t \\right)} + \\cos{\\left(\\psi{\\left(t \\right)} \\right)} \\frac{d}{d t} \\theta{\\left(t \\right)}\\\\- \\sin{\\left(\\psi{\\left(t \\right)} \\right)} \\frac{d}{d t} \\theta{\\left(t \\right)} + \\sin{\\left(\\theta{\\left(t \\right)} \\right)} \\cos{\\left(\\psi{\\left(t \\right)} \\right)} \\frac{d}{d t} \\phi{\\left(t \\right)}\\\\\\cos{\\left(\\theta{\\left(t \\right)} \\right)} \\frac{d}{d t} \\phi{\\left(t \\right)} + \\frac{d}{d t} \\psi{\\left(t \\right)}\\end{matrix}\\right]$"
      ],
      "text/plain": [
       "Matrix([\n",
       "[ sin(\\psi(t))*sin(\\theta(t))*Derivative(\\phi(t), t) + cos(\\psi(t))*Derivative(\\theta(t), t)],\n",
       "[-sin(\\psi(t))*Derivative(\\theta(t), t) + sin(\\theta(t))*cos(\\psi(t))*Derivative(\\phi(t), t)],\n",
       "[                             cos(\\theta(t))*Derivative(\\phi(t), t) + Derivative(\\psi(t), t)]])"
      ]
     },
     "execution_count": 4,
     "metadata": {},
     "output_type": "execute_result"
    }
   ],
   "source": [
    "omega = smp.Matrix([phi_d*smp.sin(the)*smp.sin(psi)+the_d*smp.cos(psi),\n",
    "                    phi_d*smp.sin(the)*smp.cos(psi)-the_d*smp.sin(psi),\n",
    "                    phi_d*smp.cos(the)+psi_d])\n",
    "omega"
   ]
  },
  {
   "cell_type": "code",
   "execution_count": 67,
   "id": "c4d59a5f-db73-435b-8b37-4ca876a2cdd0",
   "metadata": {},
   "outputs": [
    {
     "data": {
      "text/latex": [
       "$\\displaystyle \\left[\\begin{matrix}\\sin{\\left(\\phi{\\left(t \\right)} \\right)} \\sin{\\left(\\theta{\\left(t \\right)} \\right)}\\\\- \\sin{\\left(\\theta{\\left(t \\right)} \\right)} \\cos{\\left(\\phi{\\left(t \\right)} \\right)}\\\\\\cos{\\left(\\theta{\\left(t \\right)} \\right)}\\end{matrix}\\right]$"
      ],
      "text/plain": [
       "Matrix([\n",
       "[ sin(\\phi(t))*sin(\\theta(t))],\n",
       "[-sin(\\theta(t))*cos(\\phi(t))],\n",
       "[              cos(\\theta(t))]])"
      ]
     },
     "execution_count": 67,
     "metadata": {},
     "output_type": "execute_result"
    }
   ],
   "source": [
    "PG = R@smp.Matrix([0,0,1]) \n",
    "PG"
   ]
  },
  {
   "cell_type": "code",
   "execution_count": 40,
   "id": "f965385d-e8a7-4449-9261-01d434d46249",
   "metadata": {},
   "outputs": [
    {
     "data": {
      "text/latex": [
       "$\\displaystyle \\left[\\begin{matrix}\\omega^{2} m x_{0} \\cos{\\left(\\Phi + \\omega t \\right)}\\\\0\\\\0\\end{matrix}\\right]$"
      ],
      "text/plain": [
       "Matrix([\n",
       "[\\omega**2*m*x_0*cos(\\Phi + \\omega*t)],\n",
       "[                                   0],\n",
       "[                                   0]])"
      ]
     },
     "execution_count": 40,
     "metadata": {},
     "output_type": "execute_result"
    }
   ],
   "source": [
    "P = -m * g * smp.Matrix([0,0,1]) \n",
    "\n",
    "ae = -  x0 * (w**2) * smp.Matrix([smp.cos(w*t + p),\n",
    "                    0,\n",
    "                    0])\n",
    "Fe = - m * ae\n",
    "Fe"
   ]
  },
  {
   "cell_type": "code",
   "execution_count": 43,
   "id": "ecbd12b5-5543-40dc-9e08-bf66d39c7ddf",
   "metadata": {},
   "outputs": [
    {
     "data": {
      "text/latex": [
       "$\\displaystyle - \\omega^{2} x_{0} \\sin{\\left(\\phi{\\left(t \\right)} \\right)} \\sin{\\left(\\theta{\\left(t \\right)} \\right)} \\cos{\\left(\\Phi + \\omega t \\right)}$"
      ],
      "text/plain": [
       "-\\omega**2*x_0*sin(\\phi(t))*sin(\\theta(t))*cos(\\Phi + \\omega*t)"
      ]
     },
     "execution_count": 43,
     "metadata": {},
     "output_type": "execute_result"
    }
   ],
   "source": [
    "PG.dot(ae)"
   ]
  },
  {
   "cell_type": "code",
   "execution_count": 48,
   "id": "91121cb4-fd1c-4cb3-a5bf-8da7ee2b3310",
   "metadata": {},
   "outputs": [
    {
     "data": {
      "text/latex": [
       "$\\displaystyle \\left[\\begin{matrix}x_{0} \\cos{\\left(\\Phi + \\omega t \\right)} + \\sin{\\left(\\phi{\\left(t \\right)} \\right)} \\sin{\\left(\\theta{\\left(t \\right)} \\right)}\\\\- \\sin{\\left(\\theta{\\left(t \\right)} \\right)} \\cos{\\left(\\phi{\\left(t \\right)} \\right)}\\\\\\cos{\\left(\\theta{\\left(t \\right)} \\right)}\\end{matrix}\\right]$"
      ],
      "text/plain": [
       "Matrix([\n",
       "[x_0*cos(\\Phi + \\omega*t) + sin(\\phi(t))*sin(\\theta(t))],\n",
       "[                          -sin(\\theta(t))*cos(\\phi(t))],\n",
       "[                                        cos(\\theta(t))]])"
      ]
     },
     "execution_count": 48,
     "metadata": {},
     "output_type": "execute_result"
    }
   ],
   "source": [
    "r_pos = PG + smp.Matrix([x0 *smp.cos(w*t + p), 0, 0])\n",
    "r_pos"
   ]
  },
  {
   "cell_type": "code",
   "execution_count": 52,
   "id": "53d34642-4f26-475b-aab5-caa10bb22d82",
   "metadata": {},
   "outputs": [
    {
     "data": {
      "text/latex": [
       "$\\displaystyle \\left[\\begin{matrix}\\sin{\\left(\\phi{\\left(t \\right)} \\right)} \\cos{\\left(\\theta{\\left(t \\right)} \\right)} \\frac{d}{d t} \\theta{\\left(t \\right)} + \\sin{\\left(\\theta{\\left(t \\right)} \\right)} \\cos{\\left(\\phi{\\left(t \\right)} \\right)} \\frac{d}{d t} \\phi{\\left(t \\right)}\\\\\\sin{\\left(\\phi{\\left(t \\right)} \\right)} \\sin{\\left(\\theta{\\left(t \\right)} \\right)} \\frac{d}{d t} \\phi{\\left(t \\right)} - \\cos{\\left(\\phi{\\left(t \\right)} \\right)} \\cos{\\left(\\theta{\\left(t \\right)} \\right)} \\frac{d}{d t} \\theta{\\left(t \\right)}\\\\- \\sin{\\left(\\theta{\\left(t \\right)} \\right)} \\frac{d}{d t} \\theta{\\left(t \\right)}\\end{matrix}\\right]$"
      ],
      "text/plain": [
       "Matrix([\n",
       "[sin(\\phi(t))*cos(\\theta(t))*Derivative(\\theta(t), t) + sin(\\theta(t))*cos(\\phi(t))*Derivative(\\phi(t), t)],\n",
       "[sin(\\phi(t))*sin(\\theta(t))*Derivative(\\phi(t), t) - cos(\\phi(t))*cos(\\theta(t))*Derivative(\\theta(t), t)],\n",
       "[                                                                 -sin(\\theta(t))*Derivative(\\theta(t), t)]])"
      ]
     },
     "execution_count": 52,
     "metadata": {},
     "output_type": "execute_result"
    }
   ],
   "source": [
    "v = smp.diff(PG, t)\n",
    "v.simplify()\n",
    "v"
   ]
  },
  {
   "cell_type": "code",
   "execution_count": 59,
   "id": "399f1dd1-56cc-46bd-af19-047c185e65aa",
   "metadata": {},
   "outputs": [
    {
     "data": {
      "text/latex": [
       "$\\displaystyle \\left(\\sin{\\left(\\phi{\\left(t \\right)} \\right)} \\sin{\\left(\\theta{\\left(t \\right)} \\right)} \\frac{d}{d t} \\phi{\\left(t \\right)} - \\cos{\\left(\\phi{\\left(t \\right)} \\right)} \\cos{\\left(\\theta{\\left(t \\right)} \\right)} \\frac{d}{d t} \\theta{\\left(t \\right)}\\right)^{2} + \\left(\\sin{\\left(\\phi{\\left(t \\right)} \\right)} \\cos{\\left(\\theta{\\left(t \\right)} \\right)} \\frac{d}{d t} \\theta{\\left(t \\right)} + \\sin{\\left(\\theta{\\left(t \\right)} \\right)} \\cos{\\left(\\phi{\\left(t \\right)} \\right)} \\frac{d}{d t} \\phi{\\left(t \\right)}\\right)^{2} + \\sin^{2}{\\left(\\theta{\\left(t \\right)} \\right)} \\left(\\frac{d}{d t} \\theta{\\left(t \\right)}\\right)^{2}$"
      ],
      "text/plain": [
       "(sin(\\phi(t))*sin(\\theta(t))*Derivative(\\phi(t), t) - cos(\\phi(t))*cos(\\theta(t))*Derivative(\\theta(t), t))**2 + (sin(\\phi(t))*cos(\\theta(t))*Derivative(\\theta(t), t) + sin(\\theta(t))*cos(\\phi(t))*Derivative(\\phi(t), t))**2 + sin(\\theta(t))**2*Derivative(\\theta(t), t)**2"
      ]
     },
     "execution_count": 59,
     "metadata": {},
     "output_type": "execute_result"
    }
   ],
   "source": [
    "v_carre = v.dot(v)\n",
    "v_carre.simplify()\n",
    "v_carre"
   ]
  },
  {
   "cell_type": "code",
   "execution_count": 66,
   "id": "346d5ad1-f976-48cd-a502-a56945c9c507",
   "metadata": {},
   "outputs": [
    {
     "data": {
      "text/latex": [
       "$\\displaystyle \\left[\\begin{matrix}- \\omega x_{0} \\sin{\\left(\\Phi + \\omega t \\right)} + \\sin{\\left(\\phi{\\left(t \\right)} \\right)} \\cos{\\left(\\theta{\\left(t \\right)} \\right)} \\frac{d}{d t} \\theta{\\left(t \\right)} + \\sin{\\left(\\theta{\\left(t \\right)} \\right)} \\cos{\\left(\\phi{\\left(t \\right)} \\right)} \\frac{d}{d t} \\phi{\\left(t \\right)}\\\\\\sin{\\left(\\phi{\\left(t \\right)} \\right)} \\sin{\\left(\\theta{\\left(t \\right)} \\right)} \\frac{d}{d t} \\phi{\\left(t \\right)} - \\cos{\\left(\\phi{\\left(t \\right)} \\right)} \\cos{\\left(\\theta{\\left(t \\right)} \\right)} \\frac{d}{d t} \\theta{\\left(t \\right)}\\\\- \\sin{\\left(\\theta{\\left(t \\right)} \\right)} \\frac{d}{d t} \\theta{\\left(t \\right)}\\end{matrix}\\right]$"
      ],
      "text/plain": [
       "Matrix([\n",
       "[-\\omega*x_0*sin(\\Phi + \\omega*t) + sin(\\phi(t))*cos(\\theta(t))*Derivative(\\theta(t), t) + sin(\\theta(t))*cos(\\phi(t))*Derivative(\\phi(t), t)],\n",
       "[                                   sin(\\phi(t))*sin(\\theta(t))*Derivative(\\phi(t), t) - cos(\\phi(t))*cos(\\theta(t))*Derivative(\\theta(t), t)],\n",
       "[                                                                                                    -sin(\\theta(t))*Derivative(\\theta(t), t)]])"
      ]
     },
     "execution_count": 66,
     "metadata": {},
     "output_type": "execute_result"
    }
   ],
   "source": [
    "r_forced = PG + smp.Matrix([x0 * smp.cos(w*t + p), 0, 0])\n",
    "v_forced = smp.diff(r_forced, t)\n",
    "v_forced.simplify()\n",
    "v_forced"
   ]
  },
  {
   "cell_type": "code",
   "execution_count": 61,
   "id": "1a6d86f9-c783-427d-9cf1-3177d518a9f7",
   "metadata": {},
   "outputs": [
    {
     "data": {
      "text/latex": [
       "$\\displaystyle \\left(\\sin{\\left(\\phi{\\left(t \\right)} \\right)} \\sin{\\left(\\theta{\\left(t \\right)} \\right)} \\frac{d}{d t} \\phi{\\left(t \\right)} - \\cos{\\left(\\phi{\\left(t \\right)} \\right)} \\cos{\\left(\\theta{\\left(t \\right)} \\right)} \\frac{d}{d t} \\theta{\\left(t \\right)}\\right)^{2} + \\left(- \\omega x_{0} \\sin{\\left(\\Phi + \\omega t \\right)} + \\sin{\\left(\\phi{\\left(t \\right)} \\right)} \\cos{\\left(\\theta{\\left(t \\right)} \\right)} \\frac{d}{d t} \\theta{\\left(t \\right)} + \\sin{\\left(\\theta{\\left(t \\right)} \\right)} \\cos{\\left(\\phi{\\left(t \\right)} \\right)} \\frac{d}{d t} \\phi{\\left(t \\right)}\\right)^{2} + \\sin^{2}{\\left(\\theta{\\left(t \\right)} \\right)} \\left(\\frac{d}{d t} \\theta{\\left(t \\right)}\\right)^{2}$"
      ],
      "text/plain": [
       "(sin(\\phi(t))*sin(\\theta(t))*Derivative(\\phi(t), t) - cos(\\phi(t))*cos(\\theta(t))*Derivative(\\theta(t), t))**2 + (-\\omega*x_0*sin(\\Phi + \\omega*t) + sin(\\phi(t))*cos(\\theta(t))*Derivative(\\theta(t), t) + sin(\\theta(t))*cos(\\phi(t))*Derivative(\\phi(t), t))**2 + sin(\\theta(t))**2*Derivative(\\theta(t), t)**2"
      ]
     },
     "execution_count": 61,
     "metadata": {},
     "output_type": "execute_result"
    }
   ],
   "source": [
    "v_forced_carre = v_forced.dot(v_forced)\n",
    "v_forced_carre.simplify()\n",
    "v_forced_carre"
   ]
  },
  {
   "cell_type": "code",
   "execution_count": 62,
   "id": "45d2017f-b913-402a-b47a-a020efe1834c",
   "metadata": {},
   "outputs": [
    {
     "data": {
      "text/latex": [
       "$\\displaystyle - \\left(\\sin{\\left(\\phi{\\left(t \\right)} \\right)} \\cos{\\left(\\theta{\\left(t \\right)} \\right)} \\frac{d}{d t} \\theta{\\left(t \\right)} + \\sin{\\left(\\theta{\\left(t \\right)} \\right)} \\cos{\\left(\\phi{\\left(t \\right)} \\right)} \\frac{d}{d t} \\phi{\\left(t \\right)}\\right)^{2} + \\left(- \\omega x_{0} \\sin{\\left(\\Phi + \\omega t \\right)} + \\sin{\\left(\\phi{\\left(t \\right)} \\right)} \\cos{\\left(\\theta{\\left(t \\right)} \\right)} \\frac{d}{d t} \\theta{\\left(t \\right)} + \\sin{\\left(\\theta{\\left(t \\right)} \\right)} \\cos{\\left(\\phi{\\left(t \\right)} \\right)} \\frac{d}{d t} \\phi{\\left(t \\right)}\\right)^{2}$"
      ],
      "text/plain": [
       "-(sin(\\phi(t))*cos(\\theta(t))*Derivative(\\theta(t), t) + sin(\\theta(t))*cos(\\phi(t))*Derivative(\\phi(t), t))**2 + (-\\omega*x_0*sin(\\Phi + \\omega*t) + sin(\\phi(t))*cos(\\theta(t))*Derivative(\\theta(t), t) + sin(\\theta(t))*cos(\\phi(t))*Derivative(\\phi(t), t))**2"
      ]
     },
     "execution_count": 62,
     "metadata": {},
     "output_type": "execute_result"
    }
   ],
   "source": [
    "v_forced_carre - v_carre"
   ]
  },
  {
   "cell_type": "code",
   "execution_count": 70,
   "id": "e41dd510-8cc2-413e-b878-52aac641c154",
   "metadata": {},
   "outputs": [
    {
     "data": {
      "text/latex": [
       "$\\displaystyle \\left[\\begin{matrix}\\sin{\\left(\\phi{\\left(t \\right)} \\right)} \\sin{\\left(\\theta{\\left(t \\right)} \\right)}\\\\- \\sin{\\left(\\theta{\\left(t \\right)} \\right)} \\cos{\\left(\\phi{\\left(t \\right)} \\right)}\\\\\\cos{\\left(\\theta{\\left(t \\right)} \\right)}\\end{matrix}\\right]$"
      ],
      "text/plain": [
       "Matrix([\n",
       "[ sin(\\phi(t))*sin(\\theta(t))],\n",
       "[-sin(\\theta(t))*cos(\\phi(t))],\n",
       "[              cos(\\theta(t))]])"
      ]
     },
     "execution_count": 70,
     "metadata": {},
     "output_type": "execute_result"
    }
   ],
   "source": [
    "PG"
   ]
  },
  {
   "cell_type": "code",
   "execution_count": 80,
   "id": "e3b41297-5fd3-45b3-81d1-a838bdafaedd",
   "metadata": {},
   "outputs": [
    {
     "data": {
      "text/latex": [
       "$\\displaystyle \\left[\\begin{matrix}g m \\sin{\\left(\\theta{\\left(t \\right)} \\right)} \\cos{\\left(\\phi{\\left(t \\right)} \\right)}\\\\g m \\sin{\\left(\\phi{\\left(t \\right)} \\right)} \\sin{\\left(\\theta{\\left(t \\right)} \\right)}\\\\0\\end{matrix}\\right]$"
      ],
      "text/plain": [
       "Matrix([\n",
       "[g*m*sin(\\theta(t))*cos(\\phi(t))],\n",
       "[g*m*sin(\\phi(t))*sin(\\theta(t))],\n",
       "[                              0]])"
      ]
     },
     "execution_count": 80,
     "metadata": {},
     "output_type": "execute_result"
    }
   ],
   "source": [
    "P = - m*g * smp.Matrix([0, 0, 1])\n",
    "Gamma_P_cart = PG.cross(P)\n",
    "Gamma_P_cart.simplify()\n",
    "Gamma_P_cart"
   ]
  },
  {
   "cell_type": "code",
   "execution_count": 81,
   "id": "ca48597b-5f8d-4221-ae4b-b39cad704329",
   "metadata": {},
   "outputs": [
    {
     "data": {
      "text/latex": [
       "$\\displaystyle \\left[\\begin{matrix}g m \\sin{\\left(\\theta{\\left(t \\right)} \\right)} \\cos{\\left(\\psi{\\left(t \\right)} \\right)}\\\\- g m \\sin{\\left(\\psi{\\left(t \\right)} \\right)} \\sin{\\left(\\theta{\\left(t \\right)} \\right)}\\\\0\\end{matrix}\\right]$"
      ],
      "text/plain": [
       "Matrix([\n",
       "[ g*m*sin(\\theta(t))*cos(\\psi(t))],\n",
       "[-g*m*sin(\\psi(t))*sin(\\theta(t))],\n",
       "[                               0]])"
      ]
     },
     "execution_count": 81,
     "metadata": {},
     "output_type": "execute_result"
    }
   ],
   "source": [
    "o = R_inverse @ Gamma_P_cart\n",
    "o.simplify()\n",
    "o"
   ]
  },
  {
   "cell_type": "code",
   "execution_count": 86,
   "id": "a578da84-d8e4-4011-b564-36e867117740",
   "metadata": {},
   "outputs": [
    {
     "data": {
      "text/latex": [
       "$\\displaystyle \\left[\\begin{matrix}\\sin{\\left(\\psi{\\left(t \\right)} \\right)} \\sin{\\left(\\theta{\\left(t \\right)} \\right)} \\frac{d}{d t} \\phi{\\left(t \\right)} + \\cos{\\left(\\psi{\\left(t \\right)} \\right)} \\frac{d}{d t} \\theta{\\left(t \\right)}\\\\- \\sin{\\left(\\psi{\\left(t \\right)} \\right)} \\frac{d}{d t} \\theta{\\left(t \\right)} + \\sin{\\left(\\theta{\\left(t \\right)} \\right)} \\cos{\\left(\\psi{\\left(t \\right)} \\right)} \\frac{d}{d t} \\phi{\\left(t \\right)}\\\\0\\end{matrix}\\right]$"
      ],
      "text/plain": [
       "Matrix([\n",
       "[ sin(\\psi(t))*sin(\\theta(t))*Derivative(\\phi(t), t) + cos(\\psi(t))*Derivative(\\theta(t), t)],\n",
       "[-sin(\\psi(t))*Derivative(\\theta(t), t) + sin(\\theta(t))*cos(\\psi(t))*Derivative(\\phi(t), t)],\n",
       "[                                                                                          0]])"
      ]
     },
     "execution_count": 86,
     "metadata": {},
     "output_type": "execute_result"
    }
   ],
   "source": [
    "LLL = PG.cross(v)\n",
    "LLL_euler = R_inverse @ LLL\n",
    "LLL_euler.simplify()\n",
    "LLL_euler"
   ]
  },
  {
   "cell_type": "code",
   "execution_count": 87,
   "id": "648a2ed1-2e4a-4b84-b274-91a22668eab7",
   "metadata": {},
   "outputs": [
    {
     "data": {
      "text/latex": [
       "$\\displaystyle \\left[\\begin{matrix}\\sin{\\left(\\phi{\\left(t \\right)} \\right)} \\sin{\\left(\\theta{\\left(t \\right)} \\right)}\\\\- \\sin{\\left(\\theta{\\left(t \\right)} \\right)} \\cos{\\left(\\phi{\\left(t \\right)} \\right)}\\\\\\cos{\\left(\\theta{\\left(t \\right)} \\right)}\\end{matrix}\\right]$"
      ],
      "text/plain": [
       "Matrix([\n",
       "[ sin(\\phi(t))*sin(\\theta(t))],\n",
       "[-sin(\\theta(t))*cos(\\phi(t))],\n",
       "[              cos(\\theta(t))]])"
      ]
     },
     "execution_count": 87,
     "metadata": {},
     "output_type": "execute_result"
    }
   ],
   "source": [
    "PG"
   ]
  },
  {
   "cell_type": "code",
   "execution_count": 110,
   "id": "d303ee60-7225-474f-a821-53a1199a075d",
   "metadata": {},
   "outputs": [
    {
     "data": {
      "text/latex": [
       "$\\displaystyle \\left[\\begin{matrix}J_{1} \\left(\\sin{\\left(\\psi{\\left(t \\right)} \\right)} \\sin{\\left(\\theta{\\left(t \\right)} \\right)} \\frac{d}{d t} \\phi{\\left(t \\right)} + \\cos{\\left(\\psi{\\left(t \\right)} \\right)} \\frac{d}{d t} \\theta{\\left(t \\right)}\\right)\\\\J_{1} \\left(- \\sin{\\left(\\psi{\\left(t \\right)} \\right)} \\frac{d}{d t} \\theta{\\left(t \\right)} + \\sin{\\left(\\theta{\\left(t \\right)} \\right)} \\cos{\\left(\\psi{\\left(t \\right)} \\right)} \\frac{d}{d t} \\phi{\\left(t \\right)}\\right)\\\\J_{3} \\left(\\cos{\\left(\\theta{\\left(t \\right)} \\right)} \\frac{d}{d t} \\phi{\\left(t \\right)} + \\frac{d}{d t} \\psi{\\left(t \\right)}\\right)\\end{matrix}\\right]$"
      ],
      "text/plain": [
       "Matrix([\n",
       "[ J1*(sin(\\psi(t))*sin(\\theta(t))*Derivative(\\phi(t), t) + cos(\\psi(t))*Derivative(\\theta(t), t))],\n",
       "[J1*(-sin(\\psi(t))*Derivative(\\theta(t), t) + sin(\\theta(t))*cos(\\psi(t))*Derivative(\\phi(t), t))],\n",
       "[                             J3*(cos(\\theta(t))*Derivative(\\phi(t), t) + Derivative(\\psi(t), t))]])"
      ]
     },
     "execution_count": 110,
     "metadata": {},
     "output_type": "execute_result"
    }
   ],
   "source": [
    "J1, J3 = smp.symbols('J1 J3', real=True)\n",
    "I = smp.Matrix([[J1, 0, 0], [0, J1, 0], [0, 0, J3]])\n",
    "L = I * omega\n",
    "L.simplify()\n",
    "L"
   ]
  },
  {
   "cell_type": "code",
   "execution_count": 111,
   "id": "29d09ea3-1f82-4b0a-9528-0b4b51a33595",
   "metadata": {},
   "outputs": [
    {
     "data": {
      "text/latex": [
       "$\\displaystyle \\left[\\begin{matrix}g m \\sin{\\left(\\theta{\\left(t \\right)} \\right)} \\cos{\\left(\\phi{\\left(t \\right)} \\right)}\\\\g m \\sin{\\left(\\phi{\\left(t \\right)} \\right)} \\sin{\\left(\\theta{\\left(t \\right)} \\right)}\\\\0\\end{matrix}\\right]$"
      ],
      "text/plain": [
       "Matrix([\n",
       "[g*m*sin(\\theta(t))*cos(\\phi(t))],\n",
       "[g*m*sin(\\phi(t))*sin(\\theta(t))],\n",
       "[                              0]])"
      ]
     },
     "execution_count": 111,
     "metadata": {},
     "output_type": "execute_result"
    }
   ],
   "source": [
    "PG.cross(P)"
   ]
  },
  {
   "cell_type": "code",
   "execution_count": 117,
   "id": "fbddc0e5-be47-4540-ac5b-a683c1ea2bd1",
   "metadata": {},
   "outputs": [
    {
     "data": {
      "text/latex": [
       "$\\displaystyle \\left[\\begin{matrix}\\left(J_{1} - J_{3}\\right) \\left(\\sin{\\left(\\psi{\\left(t \\right)} \\right)} \\frac{d}{d t} \\theta{\\left(t \\right)} - \\sin{\\left(\\theta{\\left(t \\right)} \\right)} \\cos{\\left(\\psi{\\left(t \\right)} \\right)} \\frac{d}{d t} \\phi{\\left(t \\right)}\\right) \\left(\\cos{\\left(\\theta{\\left(t \\right)} \\right)} \\frac{d}{d t} \\phi{\\left(t \\right)} + \\frac{d}{d t} \\psi{\\left(t \\right)}\\right)\\\\\\left(J_{1} - J_{3}\\right) \\left(\\cos{\\left(\\theta{\\left(t \\right)} \\right)} \\frac{d}{d t} \\phi{\\left(t \\right)} + \\frac{d}{d t} \\psi{\\left(t \\right)}\\right) \\left(\\sin{\\left(\\psi{\\left(t \\right)} \\right)} \\sin{\\left(\\theta{\\left(t \\right)} \\right)} \\frac{d}{d t} \\phi{\\left(t \\right)} + \\cos{\\left(\\psi{\\left(t \\right)} \\right)} \\frac{d}{d t} \\theta{\\left(t \\right)}\\right)\\\\0\\end{matrix}\\right]$"
      ],
      "text/plain": [
       "Matrix([\n",
       "[(J1 - J3)*(sin(\\psi(t))*Derivative(\\theta(t), t) - sin(\\theta(t))*cos(\\psi(t))*Derivative(\\phi(t), t))*(cos(\\theta(t))*Derivative(\\phi(t), t) + Derivative(\\psi(t), t))],\n",
       "[(J1 - J3)*(cos(\\theta(t))*Derivative(\\phi(t), t) + Derivative(\\psi(t), t))*(sin(\\psi(t))*sin(\\theta(t))*Derivative(\\phi(t), t) + cos(\\psi(t))*Derivative(\\theta(t), t))],\n",
       "[                                                                                                                                                                      0]])"
      ]
     },
     "execution_count": 117,
     "metadata": {},
     "output_type": "execute_result"
    }
   ],
   "source": [
    "o = omega.cross(L)\n",
    "o.simplify()\n",
    "o"
   ]
  },
  {
   "cell_type": "code",
   "execution_count": null,
   "id": "91784295-45f5-4d18-bf3c-44c6c2f6d63a",
   "metadata": {},
   "outputs": [],
   "source": []
  },
  {
   "cell_type": "code",
   "execution_count": null,
   "id": "46da3cb7-2aeb-47c6-8732-4be4d97b7543",
   "metadata": {},
   "outputs": [],
   "source": []
  },
  {
   "cell_type": "code",
   "execution_count": 7,
   "id": "5e80af82-9f08-44ec-8d6f-63facce65d7d",
   "metadata": {},
   "outputs": [
    {
     "data": {
      "text/latex": [
       "$\\displaystyle \\left[\\begin{matrix}g m \\sin{\\left(\\theta{\\left(t \\right)} \\right)} \\cos{\\left(\\phi{\\left(t \\right)} \\right)}\\\\g m \\sin{\\left(\\phi{\\left(t \\right)} \\right)} \\sin{\\left(\\theta{\\left(t \\right)} \\right)}\\\\0\\end{matrix}\\right]$"
      ],
      "text/plain": [
       "Matrix([\n",
       "[g*m*sin(\\theta(t))*cos(\\phi(t))],\n",
       "[g*m*sin(\\phi(t))*sin(\\theta(t))],\n",
       "[                              0]])"
      ]
     },
     "execution_count": 7,
     "metadata": {},
     "output_type": "execute_result"
    }
   ],
   "source": [
    "Gamma_P_cart = PG.cross(P)\n",
    "Gamma_P_cart"
   ]
  },
  {
   "cell_type": "code",
   "execution_count": 8,
   "id": "340df6f6-4d8a-4559-8efe-42607065498c",
   "metadata": {},
   "outputs": [
    {
     "data": {
      "text/latex": [
       "$\\displaystyle \\left[\\begin{matrix}g m \\sin{\\left(\\theta{\\left(t \\right)} \\right)} \\cos{\\left(\\psi{\\left(t \\right)} \\right)}\\\\- g m \\sin{\\left(\\psi{\\left(t \\right)} \\right)} \\sin{\\left(\\theta{\\left(t \\right)} \\right)}\\\\0\\end{matrix}\\right]$"
      ],
      "text/plain": [
       "Matrix([\n",
       "[ g*m*sin(\\theta(t))*cos(\\psi(t))],\n",
       "[-g*m*sin(\\psi(t))*sin(\\theta(t))],\n",
       "[                               0]])"
      ]
     },
     "execution_count": 8,
     "metadata": {},
     "output_type": "execute_result"
    }
   ],
   "source": [
    "Gamma_P_euler = R_inverse@Gamma_P_cart\n",
    "Gamma_P_euler.simplify()\n",
    "Gamma_P_euler"
   ]
  },
  {
   "cell_type": "code",
   "execution_count": 9,
   "id": "cebac804-9dd7-43fd-8399-de24d1941c05",
   "metadata": {},
   "outputs": [
    {
     "data": {
      "text/latex": [
       "$\\displaystyle \\left[\\begin{matrix}0\\\\- \\omega^{2} m x_{0} \\cos{\\left(\\Phi + \\omega t \\right)} \\cos{\\left(\\theta{\\left(t \\right)} \\right)}\\\\- \\omega^{2} m x_{0} \\sin{\\left(\\theta{\\left(t \\right)} \\right)} \\cos{\\left(\\Phi + \\omega t \\right)} \\cos{\\left(\\phi{\\left(t \\right)} \\right)}\\end{matrix}\\right]$"
      ],
      "text/plain": [
       "Matrix([\n",
       "[                                                                0],\n",
       "[             -\\omega**2*m*x_0*cos(\\Phi + \\omega*t)*cos(\\theta(t))],\n",
       "[-\\omega**2*m*x_0*sin(\\theta(t))*cos(\\Phi + \\omega*t)*cos(\\phi(t))]])"
      ]
     },
     "execution_count": 9,
     "metadata": {},
     "output_type": "execute_result"
    }
   ],
   "source": [
    "Gamma_Fe_cart = PG.cross(Fe)\n",
    "Gamma_Fe_cart"
   ]
  },
  {
   "cell_type": "code",
   "execution_count": 10,
   "id": "41ef1313-d18e-4fbd-b5fe-0b01afa1ae66",
   "metadata": {},
   "outputs": [
    {
     "data": {
      "text/latex": [
       "$\\displaystyle \\left[\\begin{matrix}0\\\\- \\omega^{2} m x_{0} \\cos{\\left(\\Phi + \\omega t \\right)} \\cos{\\left(\\theta{\\left(t \\right)} \\right)}\\\\- \\omega^{2} m x_{0} \\sin{\\left(\\theta{\\left(t \\right)} \\right)} \\cos{\\left(\\Phi + \\omega t \\right)} \\cos{\\left(\\phi{\\left(t \\right)} \\right)}\\end{matrix}\\right]$"
      ],
      "text/plain": [
       "Matrix([\n",
       "[                                                                0],\n",
       "[             -\\omega**2*m*x_0*cos(\\Phi + \\omega*t)*cos(\\theta(t))],\n",
       "[-\\omega**2*m*x_0*sin(\\theta(t))*cos(\\Phi + \\omega*t)*cos(\\phi(t))]])"
      ]
     },
     "execution_count": 10,
     "metadata": {},
     "output_type": "execute_result"
    }
   ],
   "source": [
    "Gamma_Fe_cart.simplify()\n",
    "Gamma_Fe_cart"
   ]
  },
  {
   "cell_type": "code",
   "execution_count": 11,
   "id": "9e00cb0e-1b9b-4564-a766-c6842be7b261",
   "metadata": {},
   "outputs": [
    {
     "data": {
      "text/latex": [
       "$\\displaystyle \\left[\\begin{matrix}- \\omega^{2} m x_{0} \\left(\\sin{\\left(\\phi{\\left(t \\right)} \\right)} \\cos{\\left(\\psi{\\left(t \\right)} \\right)} \\cos{\\left(\\theta{\\left(t \\right)} \\right)} + \\sin{\\left(\\psi{\\left(t \\right)} \\right)} \\cos{\\left(\\phi{\\left(t \\right)} \\right)}\\right) \\cos{\\left(\\Phi + \\omega t \\right)}\\\\\\omega^{2} m x_{0} \\left(\\sin{\\left(\\phi{\\left(t \\right)} \\right)} \\sin{\\left(\\psi{\\left(t \\right)} \\right)} \\cos{\\left(\\theta{\\left(t \\right)} \\right)} - \\cos{\\left(\\phi{\\left(t \\right)} \\right)} \\cos{\\left(\\psi{\\left(t \\right)} \\right)}\\right) \\cos{\\left(\\Phi + \\omega t \\right)}\\\\0\\end{matrix}\\right]$"
      ],
      "text/plain": [
       "Matrix([\n",
       "[-\\omega**2*m*x_0*(sin(\\phi(t))*cos(\\psi(t))*cos(\\theta(t)) + sin(\\psi(t))*cos(\\phi(t)))*cos(\\Phi + \\omega*t)],\n",
       "[ \\omega**2*m*x_0*(sin(\\phi(t))*sin(\\psi(t))*cos(\\theta(t)) - cos(\\phi(t))*cos(\\psi(t)))*cos(\\Phi + \\omega*t)],\n",
       "[                                                                                                           0]])"
      ]
     },
     "execution_count": 11,
     "metadata": {},
     "output_type": "execute_result"
    }
   ],
   "source": [
    "Gamma_Fe_euler = R_inverse@Gamma_Fe_cart\n",
    "Gamma_Fe_euler.simplify()\n",
    "Gamma_Fe_euler"
   ]
  },
  {
   "cell_type": "code",
   "execution_count": 12,
   "id": "0c96f770-7aac-4fb7-b8c0-d7513a1d98b3",
   "metadata": {},
   "outputs": [
    {
     "data": {
      "text/latex": [
       "$\\displaystyle \\left[\\begin{matrix}\\sin{\\left(\\psi{\\left(t \\right)} \\right)} \\sin{\\left(\\theta{\\left(t \\right)} \\right)}\\\\\\sin{\\left(\\theta{\\left(t \\right)} \\right)} \\cos{\\left(\\psi{\\left(t \\right)} \\right)}\\\\\\cos{\\left(\\theta{\\left(t \\right)} \\right)}\\end{matrix}\\right]$"
      ],
      "text/plain": [
       "Matrix([\n",
       "[sin(\\psi(t))*sin(\\theta(t))],\n",
       "[sin(\\theta(t))*cos(\\psi(t))],\n",
       "[             cos(\\theta(t))]])"
      ]
     },
     "execution_count": 12,
     "metadata": {},
     "output_type": "execute_result"
    }
   ],
   "source": [
    "v_theta = smp.Matrix([smp.cos(psi), -smp.sin(psi), 0])\n",
    "v_phi = smp.Matrix([smp.sin(the) * smp.sin(psi), smp.cos(psi) * smp.sin(the), smp.cos(the)])\n",
    "v_psi = smp.Matrix([0, 0, 1])\n",
    "v_phi"
   ]
  },
  {
   "cell_type": "code",
   "execution_count": 13,
   "id": "4325d114-144d-444a-b337-3b2046bc8579",
   "metadata": {},
   "outputs": [
    {
     "data": {
      "text/latex": [
       "$\\displaystyle - \\omega^{2} m x_{0} \\sin{\\left(\\phi{\\left(t \\right)} \\right)} \\cos{\\left(\\Phi + \\omega t \\right)} \\cos{\\left(\\theta{\\left(t \\right)} \\right)}$"
      ],
      "text/plain": [
       "-\\omega**2*m*x_0*sin(\\phi(t))*cos(\\Phi + \\omega*t)*cos(\\theta(t))"
      ]
     },
     "execution_count": 13,
     "metadata": {},
     "output_type": "execute_result"
    }
   ],
   "source": [
    "Gamma_Fe_euler.dot(v_theta).simplify()"
   ]
  },
  {
   "cell_type": "code",
   "execution_count": 14,
   "id": "718475d0-ba9d-405a-b3f9-ac68e16ea70b",
   "metadata": {},
   "outputs": [
    {
     "data": {
      "text/latex": [
       "$\\displaystyle - \\omega^{2} m x_{0} \\sin{\\left(\\theta{\\left(t \\right)} \\right)} \\cos{\\left(\\Phi + \\omega t \\right)} \\cos{\\left(\\phi{\\left(t \\right)} \\right)}$"
      ],
      "text/plain": [
       "-\\omega**2*m*x_0*sin(\\theta(t))*cos(\\Phi + \\omega*t)*cos(\\phi(t))"
      ]
     },
     "execution_count": 14,
     "metadata": {},
     "output_type": "execute_result"
    }
   ],
   "source": [
    "Gamma_Fe_euler.dot(v_phi).simplify()"
   ]
  },
  {
   "cell_type": "code",
   "execution_count": 15,
   "id": "0f385129-1637-4797-a017-734a2690bf47",
   "metadata": {},
   "outputs": [
    {
     "data": {
      "text/latex": [
       "$\\displaystyle - \\omega^{2} m x_{0} \\sin{\\left(\\theta{\\left(t \\right)} \\right)} \\cos{\\left(\\Phi + \\omega t \\right)} \\cos{\\left(\\phi{\\left(t \\right)} \\right)}$"
      ],
      "text/plain": [
       "-\\omega**2*m*x_0*sin(\\theta(t))*cos(\\Phi + \\omega*t)*cos(\\phi(t))"
      ]
     },
     "execution_count": 15,
     "metadata": {},
     "output_type": "execute_result"
    }
   ],
   "source": [
    "Gamma_Fe_cart.dot(v_psi).simplify()"
   ]
  },
  {
   "cell_type": "code",
   "execution_count": 16,
   "id": "43e52bcb-20e5-4028-ba4f-266d8d58f5f2",
   "metadata": {},
   "outputs": [
    {
     "data": {
      "text/latex": [
       "$\\displaystyle \\left[\\begin{matrix}0\\\\0\\\\1\\end{matrix}\\right]$"
      ],
      "text/plain": [
       "Matrix([\n",
       "[0],\n",
       "[0],\n",
       "[1]])"
      ]
     },
     "execution_count": 16,
     "metadata": {},
     "output_type": "execute_result"
    }
   ],
   "source": [
    "u_z = R@ v_phi\n",
    "u_z.simplify()\n",
    "u_z"
   ]
  },
  {
   "cell_type": "code",
   "execution_count": 17,
   "id": "beab62d7-47be-4b14-87f8-6aa52c38f1f4",
   "metadata": {},
   "outputs": [
    {
     "data": {
      "text/latex": [
       "$\\displaystyle g m \\sin{\\left(\\theta{\\left(t \\right)} \\right)}$"
      ],
      "text/plain": [
       "g*m*sin(\\theta(t))"
      ]
     },
     "execution_count": 17,
     "metadata": {},
     "output_type": "execute_result"
    }
   ],
   "source": [
    "Gamma_P_euler.dot(v_theta).simplify()"
   ]
  },
  {
   "cell_type": "code",
   "execution_count": 18,
   "id": "490bfb27-d717-4c61-a5f7-5c888764b536",
   "metadata": {},
   "outputs": [
    {
     "data": {
      "text/latex": [
       "$\\displaystyle 0$"
      ],
      "text/plain": [
       "0"
      ]
     },
     "execution_count": 18,
     "metadata": {},
     "output_type": "execute_result"
    }
   ],
   "source": [
    "Gamma_P_euler.dot(v_phi).simplify()"
   ]
  },
  {
   "cell_type": "code",
   "execution_count": 19,
   "id": "82b5c992-d0a2-449e-b8fb-c225c3a07321",
   "metadata": {},
   "outputs": [
    {
     "data": {
      "text/latex": [
       "$\\displaystyle 0$"
      ],
      "text/plain": [
       "0"
      ]
     },
     "execution_count": 19,
     "metadata": {},
     "output_type": "execute_result"
    }
   ],
   "source": [
    "Gamma_P_cart.dot(v_psi).simplify()"
   ]
  },
  {
   "cell_type": "code",
   "execution_count": 20,
   "id": "fc698df1-2ff8-4527-ad78-4733c18a8fa7",
   "metadata": {},
   "outputs": [
    {
     "data": {
      "text/latex": [
       "$\\displaystyle \\left[\\begin{matrix}\\cos{\\left(\\psi{\\left(t \\right)} \\right)}\\\\- \\sin{\\left(\\psi{\\left(t \\right)} \\right)}\\\\0\\end{matrix}\\right]$"
      ],
      "text/plain": [
       "Matrix([\n",
       "[ cos(\\psi(t))],\n",
       "[-sin(\\psi(t))],\n",
       "[            0]])"
      ]
     },
     "execution_count": 20,
     "metadata": {},
     "output_type": "execute_result"
    }
   ],
   "source": [
    "v_theta"
   ]
  },
  {
   "cell_type": "code",
   "execution_count": null,
   "id": "47d40063-0bb0-47a1-a9a6-6a80ec7b088e",
   "metadata": {},
   "outputs": [],
   "source": []
  },
  {
   "cell_type": "code",
   "execution_count": 21,
   "id": "353be98d-e294-495a-a537-24f8a47d205d",
   "metadata": {},
   "outputs": [
    {
     "data": {
      "text/latex": [
       "$\\displaystyle \\left[\\begin{matrix}- \\frac{\\cos{\\left(\\phi{\\left(t \\right)} - 2 \\theta{\\left(t \\right)} \\right)} \\frac{d}{d t} \\phi{\\left(t \\right)}}{4} + \\frac{\\cos{\\left(\\phi{\\left(t \\right)} + 2 \\theta{\\left(t \\right)} \\right)} \\frac{d}{d t} \\phi{\\left(t \\right)}}{4} + \\cos{\\left(\\phi{\\left(t \\right)} \\right)} \\frac{d}{d t} \\theta{\\left(t \\right)}\\\\- \\frac{\\sin{\\left(\\phi{\\left(t \\right)} - 2 \\theta{\\left(t \\right)} \\right)} \\frac{d}{d t} \\phi{\\left(t \\right)}}{4} + \\frac{\\sin{\\left(\\phi{\\left(t \\right)} + 2 \\theta{\\left(t \\right)} \\right)} \\frac{d}{d t} \\phi{\\left(t \\right)}}{4} + \\sin{\\left(\\phi{\\left(t \\right)} \\right)} \\frac{d}{d t} \\theta{\\left(t \\right)}\\\\\\sin^{2}{\\left(\\theta{\\left(t \\right)} \\right)} \\frac{d}{d t} \\phi{\\left(t \\right)}\\end{matrix}\\right]$"
      ],
      "text/plain": [
       "Matrix([\n",
       "[-cos(\\phi(t) - 2*\\theta(t))*Derivative(\\phi(t), t)/4 + cos(\\phi(t) + 2*\\theta(t))*Derivative(\\phi(t), t)/4 + cos(\\phi(t))*Derivative(\\theta(t), t)],\n",
       "[-sin(\\phi(t) - 2*\\theta(t))*Derivative(\\phi(t), t)/4 + sin(\\phi(t) + 2*\\theta(t))*Derivative(\\phi(t), t)/4 + sin(\\phi(t))*Derivative(\\theta(t), t)],\n",
       "[                                                                                                          sin(\\theta(t))**2*Derivative(\\phi(t), t)]])"
      ]
     },
     "execution_count": 21,
     "metadata": {},
     "output_type": "execute_result"
    }
   ],
   "source": [
    "L_O = PG.cross(smp.diff(PG, t))\n",
    "L_O.simplify()\n",
    "L_O"
   ]
  },
  {
   "cell_type": "code",
   "execution_count": 22,
   "id": "757d4bfd-704a-4c49-b087-f25e73c14df6",
   "metadata": {},
   "outputs": [
    {
     "data": {
      "text/latex": [
       "$\\displaystyle \\left[\\begin{matrix}\\sin{\\left(\\psi{\\left(t \\right)} \\right)} \\sin{\\left(\\theta{\\left(t \\right)} \\right)} \\frac{d}{d t} \\phi{\\left(t \\right)} + \\cos{\\left(\\psi{\\left(t \\right)} \\right)} \\frac{d}{d t} \\theta{\\left(t \\right)}\\\\- \\sin{\\left(\\psi{\\left(t \\right)} \\right)} \\frac{d}{d t} \\theta{\\left(t \\right)} + \\sin{\\left(\\theta{\\left(t \\right)} \\right)} \\cos{\\left(\\psi{\\left(t \\right)} \\right)} \\frac{d}{d t} \\phi{\\left(t \\right)}\\\\0\\end{matrix}\\right]$"
      ],
      "text/plain": [
       "Matrix([\n",
       "[ sin(\\psi(t))*sin(\\theta(t))*Derivative(\\phi(t), t) + cos(\\psi(t))*Derivative(\\theta(t), t)],\n",
       "[-sin(\\psi(t))*Derivative(\\theta(t), t) + sin(\\theta(t))*cos(\\psi(t))*Derivative(\\phi(t), t)],\n",
       "[                                                                                          0]])"
      ]
     },
     "execution_count": 22,
     "metadata": {},
     "output_type": "execute_result"
    }
   ],
   "source": [
    "L_O = R_inverse @ L_O\n",
    "L_O.simplify()\n",
    "L_O"
   ]
  },
  {
   "cell_type": "code",
   "execution_count": 23,
   "id": "fe54ff12-4f03-4f22-afe8-ed5d3e893e4a",
   "metadata": {},
   "outputs": [
    {
     "data": {
      "text/latex": [
       "$\\displaystyle \\sin^{2}{\\left(\\theta{\\left(t \\right)} \\right)} \\frac{d}{d t} \\phi{\\left(t \\right)}$"
      ],
      "text/plain": [
       "sin(\\theta(t))**2*Derivative(\\phi(t), t)"
      ]
     },
     "execution_count": 23,
     "metadata": {},
     "output_type": "execute_result"
    }
   ],
   "source": [
    "L_O.dot(v_phi).simplify()"
   ]
  },
  {
   "cell_type": "code",
   "execution_count": 24,
   "id": "82eddae3-45e4-470f-ade2-a8ef7fb22b12",
   "metadata": {},
   "outputs": [
    {
     "data": {
      "text/latex": [
       "$\\displaystyle 0$"
      ],
      "text/plain": [
       "0"
      ]
     },
     "execution_count": 24,
     "metadata": {},
     "output_type": "execute_result"
    }
   ],
   "source": [
    "L_O.dot(v_psi).simplify()"
   ]
  },
  {
   "cell_type": "code",
   "execution_count": 25,
   "id": "ca69cfd3-3e73-4e94-95d9-321898e59ae1",
   "metadata": {},
   "outputs": [
    {
     "data": {
      "text/latex": [
       "$\\displaystyle \\frac{d}{d t} \\theta{\\left(t \\right)}$"
      ],
      "text/plain": [
       "Derivative(\\theta(t), t)"
      ]
     },
     "execution_count": 25,
     "metadata": {},
     "output_type": "execute_result"
    }
   ],
   "source": [
    "L_O.dot(v_theta).simplify()"
   ]
  },
  {
   "cell_type": "code",
   "execution_count": null,
   "id": "b7ce703c-c2ab-42e5-8448-48aa133192bf",
   "metadata": {},
   "outputs": [],
   "source": []
  },
  {
   "cell_type": "code",
   "execution_count": 26,
   "id": "5af69971-80f5-455d-9f92-aa204e24ee36",
   "metadata": {},
   "outputs": [
    {
     "data": {
      "text/latex": [
       "$\\displaystyle - \\omega^{2} m x_{0} \\sin{\\left(\\phi{\\left(t \\right)} \\right)} \\sin{\\left(\\theta{\\left(t \\right)} \\right)} \\cos{\\left(\\Phi + \\omega t \\right)}$"
      ],
      "text/plain": [
       "-\\omega**2*m*x_0*sin(\\phi(t))*sin(\\theta(t))*cos(\\Phi + \\omega*t)"
      ]
     },
     "execution_count": 26,
     "metadata": {},
     "output_type": "execute_result"
    }
   ],
   "source": [
    "Fe.dot(PG).simplify()"
   ]
  },
  {
   "cell_type": "code",
   "execution_count": 27,
   "id": "89f9b08e-b80f-4c33-90b9-a500faf693e4",
   "metadata": {},
   "outputs": [
    {
     "data": {
      "text/latex": [
       "$\\displaystyle \\left[\\begin{matrix}\\sin{\\left(\\phi{\\left(t \\right)} \\right)} \\sin{\\left(\\theta{\\left(t \\right)} \\right)}\\\\- \\sin{\\left(\\theta{\\left(t \\right)} \\right)} \\cos{\\left(\\phi{\\left(t \\right)} \\right)}\\\\\\cos{\\left(\\theta{\\left(t \\right)} \\right)}\\end{matrix}\\right]$"
      ],
      "text/plain": [
       "Matrix([\n",
       "[ sin(\\phi(t))*sin(\\theta(t))],\n",
       "[-sin(\\theta(t))*cos(\\phi(t))],\n",
       "[              cos(\\theta(t))]])"
      ]
     },
     "execution_count": 27,
     "metadata": {},
     "output_type": "execute_result"
    }
   ],
   "source": [
    "PG"
   ]
  },
  {
   "cell_type": "code",
   "execution_count": 28,
   "id": "b4b46689-7156-43e3-b477-b3c589abac40",
   "metadata": {},
   "outputs": [
    {
     "data": {
      "text/latex": [
       "$\\displaystyle \\left[\\begin{matrix}- \\omega^{2} m x_{0} \\cos{\\left(\\Phi + \\omega t \\right)}\\\\0\\\\0\\end{matrix}\\right]$"
      ],
      "text/plain": [
       "Matrix([\n",
       "[-\\omega**2*m*x_0*cos(\\Phi + \\omega*t)],\n",
       "[                                    0],\n",
       "[                                    0]])"
      ]
     },
     "execution_count": 28,
     "metadata": {},
     "output_type": "execute_result"
    }
   ],
   "source": [
    "Fe"
   ]
  },
  {
   "cell_type": "code",
   "execution_count": 29,
   "id": "371378b8-7d7f-407d-82c8-cc83d61d539d",
   "metadata": {},
   "outputs": [
    {
     "data": {
      "text/latex": [
       "$\\displaystyle \\left[\\begin{matrix}- \\omega x_{0} \\sin{\\left(\\Phi + \\omega t \\right)} + \\sin{\\left(\\phi{\\left(t \\right)} \\right)} \\cos{\\left(\\theta{\\left(t \\right)} \\right)} \\frac{d}{d t} \\theta{\\left(t \\right)} + \\sin{\\left(\\theta{\\left(t \\right)} \\right)} \\cos{\\left(\\phi{\\left(t \\right)} \\right)} \\frac{d}{d t} \\phi{\\left(t \\right)}\\\\\\sin{\\left(\\phi{\\left(t \\right)} \\right)} \\sin{\\left(\\theta{\\left(t \\right)} \\right)} \\frac{d}{d t} \\phi{\\left(t \\right)} - \\cos{\\left(\\phi{\\left(t \\right)} \\right)} \\cos{\\left(\\theta{\\left(t \\right)} \\right)} \\frac{d}{d t} \\theta{\\left(t \\right)}\\\\- \\sin{\\left(\\theta{\\left(t \\right)} \\right)} \\frac{d}{d t} \\theta{\\left(t \\right)}\\end{matrix}\\right]$"
      ],
      "text/plain": [
       "Matrix([\n",
       "[-\\omega*x_0*sin(\\Phi + \\omega*t) + sin(\\phi(t))*cos(\\theta(t))*Derivative(\\theta(t), t) + sin(\\theta(t))*cos(\\phi(t))*Derivative(\\phi(t), t)],\n",
       "[                                   sin(\\phi(t))*sin(\\theta(t))*Derivative(\\phi(t), t) - cos(\\phi(t))*cos(\\theta(t))*Derivative(\\theta(t), t)],\n",
       "[                                                                                                    -sin(\\theta(t))*Derivative(\\theta(t), t)]])"
      ]
     },
     "execution_count": 29,
     "metadata": {},
     "output_type": "execute_result"
    }
   ],
   "source": [
    "OP = smp.Matrix([x0 * smp.cos(w*t + p), 0, 0])\n",
    "\n",
    "v = smp.diff(OP + PG, t)\n",
    "v.simplify()\n",
    "v"
   ]
  },
  {
   "cell_type": "code",
   "execution_count": 30,
   "id": "f5fb9755-1e6e-403a-be14-d2af4afab4d6",
   "metadata": {},
   "outputs": [
    {
     "data": {
      "text/latex": [
       "$\\displaystyle \\left[\\begin{matrix}- \\frac{\\cos{\\left(\\phi{\\left(t \\right)} - 2 \\theta{\\left(t \\right)} \\right)} \\frac{d}{d t} \\phi{\\left(t \\right)}}{4} + \\frac{\\cos{\\left(\\phi{\\left(t \\right)} + 2 \\theta{\\left(t \\right)} \\right)} \\frac{d}{d t} \\phi{\\left(t \\right)}}{4} + \\cos{\\left(\\phi{\\left(t \\right)} \\right)} \\frac{d}{d t} \\theta{\\left(t \\right)}\\\\- \\frac{\\omega x_{0} \\sin{\\left(\\Phi + \\omega t - \\theta{\\left(t \\right)} \\right)}}{2} - \\frac{\\omega x_{0} \\sin{\\left(\\Phi + \\omega t + \\theta{\\left(t \\right)} \\right)}}{2} - \\frac{\\sin{\\left(\\phi{\\left(t \\right)} - 2 \\theta{\\left(t \\right)} \\right)} \\frac{d}{d t} \\phi{\\left(t \\right)}}{4} + \\frac{\\sin{\\left(\\phi{\\left(t \\right)} + 2 \\theta{\\left(t \\right)} \\right)} \\frac{d}{d t} \\phi{\\left(t \\right)}}{4} + \\sin{\\left(\\phi{\\left(t \\right)} \\right)} \\frac{d}{d t} \\theta{\\left(t \\right)}\\\\\\left(- \\omega x_{0} \\sin{\\left(\\Phi + \\omega t \\right)} \\cos{\\left(\\phi{\\left(t \\right)} \\right)} + \\sin{\\left(\\theta{\\left(t \\right)} \\right)} \\frac{d}{d t} \\phi{\\left(t \\right)}\\right) \\sin{\\left(\\theta{\\left(t \\right)} \\right)}\\end{matrix}\\right]$"
      ],
      "text/plain": [
       "Matrix([\n",
       "[                                                                                                -cos(\\phi(t) - 2*\\theta(t))*Derivative(\\phi(t), t)/4 + cos(\\phi(t) + 2*\\theta(t))*Derivative(\\phi(t), t)/4 + cos(\\phi(t))*Derivative(\\theta(t), t)],\n",
       "[-\\omega*x_0*sin(\\Phi + \\omega*t - \\theta(t))/2 - \\omega*x_0*sin(\\Phi + \\omega*t + \\theta(t))/2 - sin(\\phi(t) - 2*\\theta(t))*Derivative(\\phi(t), t)/4 + sin(\\phi(t) + 2*\\theta(t))*Derivative(\\phi(t), t)/4 + sin(\\phi(t))*Derivative(\\theta(t), t)],\n",
       "[                                                                                                                                            (-\\omega*x_0*sin(\\Phi + \\omega*t)*cos(\\phi(t)) + sin(\\theta(t))*Derivative(\\phi(t), t))*sin(\\theta(t))]])"
      ]
     },
     "execution_count": 30,
     "metadata": {},
     "output_type": "execute_result"
    }
   ],
   "source": [
    "Lp = PG.cross(v)\n",
    "Lp.simplify()\n",
    "Lp"
   ]
  },
  {
   "cell_type": "code",
   "execution_count": 31,
   "id": "2b9e3d2a-0b11-48fa-8f5c-7ea05fbae582",
   "metadata": {},
   "outputs": [
    {
     "data": {
      "text/latex": [
       "$\\displaystyle \\frac{\\omega^{2} m x_{0} \\left(\\cos{\\left(\\phi{\\left(t \\right)} - 2 \\theta{\\left(t \\right)} \\right)} \\frac{d}{d t} \\phi{\\left(t \\right)} - \\cos{\\left(\\phi{\\left(t \\right)} + 2 \\theta{\\left(t \\right)} \\right)} \\frac{d}{d t} \\phi{\\left(t \\right)} - 4 \\cos{\\left(\\phi{\\left(t \\right)} \\right)} \\frac{d}{d t} \\theta{\\left(t \\right)}\\right) \\cos{\\left(\\Phi + \\omega t \\right)}}{4}$"
      ],
      "text/plain": [
       "\\omega**2*m*x_0*(cos(\\phi(t) - 2*\\theta(t))*Derivative(\\phi(t), t) - cos(\\phi(t) + 2*\\theta(t))*Derivative(\\phi(t), t) - 4*cos(\\phi(t))*Derivative(\\theta(t), t))*cos(\\Phi + \\omega*t)/4"
      ]
     },
     "execution_count": 31,
     "metadata": {},
     "output_type": "execute_result"
    }
   ],
   "source": [
    "Lp.dot(Fe).simplify()"
   ]
  },
  {
   "cell_type": "code",
   "execution_count": 32,
   "id": "4359c8fc-f2e9-4a72-97a1-a6eca7984351",
   "metadata": {},
   "outputs": [
    {
     "data": {
      "text/latex": [
       "$\\displaystyle - g m \\cos{\\left(\\theta{\\left(t \\right)} \\right)}$"
      ],
      "text/plain": [
       "-g*m*cos(\\theta(t))"
      ]
     },
     "execution_count": 32,
     "metadata": {},
     "output_type": "execute_result"
    }
   ],
   "source": [
    "poids = smp.Matrix([ 0, 0, -m*g])\n",
    "\n",
    "PG.dot(poids).simplify()"
   ]
  },
  {
   "cell_type": "code",
   "execution_count": 33,
   "id": "cf5c9d88-7985-49d5-aeef-1cd5d602401e",
   "metadata": {},
   "outputs": [
    {
     "data": {
      "text/latex": [
       "$\\displaystyle \\left[\\begin{matrix}g m \\sin{\\left(\\theta{\\left(t \\right)} \\right)} \\cos{\\left(\\phi{\\left(t \\right)} \\right)}\\\\g m \\sin{\\left(\\phi{\\left(t \\right)} \\right)} \\sin{\\left(\\theta{\\left(t \\right)} \\right)}\\\\0\\end{matrix}\\right]$"
      ],
      "text/plain": [
       "Matrix([\n",
       "[g*m*sin(\\theta(t))*cos(\\phi(t))],\n",
       "[g*m*sin(\\phi(t))*sin(\\theta(t))],\n",
       "[                              0]])"
      ]
     },
     "execution_count": 33,
     "metadata": {},
     "output_type": "execute_result"
    }
   ],
   "source": [
    "a = PG.cross(poids)\n",
    "a"
   ]
  },
  {
   "cell_type": "code",
   "execution_count": 34,
   "id": "afad151a-4f6b-4071-8671-265fb5081a4d",
   "metadata": {},
   "outputs": [
    {
     "data": {
      "text/latex": [
       "$\\displaystyle \\left[\\begin{matrix}\\sin{\\left(\\phi{\\left(t \\right)} \\right)} \\sin{\\left(\\theta{\\left(t \\right)} \\right)}\\\\- \\sin{\\left(\\theta{\\left(t \\right)} \\right)} \\cos{\\left(\\phi{\\left(t \\right)} \\right)}\\\\\\cos{\\left(\\theta{\\left(t \\right)} \\right)}\\end{matrix}\\right]$"
      ],
      "text/plain": [
       "Matrix([\n",
       "[ sin(\\phi(t))*sin(\\theta(t))],\n",
       "[-sin(\\theta(t))*cos(\\phi(t))],\n",
       "[              cos(\\theta(t))]])"
      ]
     },
     "execution_count": 34,
     "metadata": {},
     "output_type": "execute_result"
    }
   ],
   "source": [
    "PG"
   ]
  },
  {
   "cell_type": "code",
   "execution_count": 35,
   "id": "3fc85bb4-523e-4651-8a1e-66f4524e90e2",
   "metadata": {},
   "outputs": [
    {
     "data": {
      "text/latex": [
       "$\\displaystyle \\left[\\begin{matrix}- \\omega x_{0} \\sin{\\left(\\Phi + \\omega t \\right)} + \\sin{\\left(\\phi{\\left(t \\right)} \\right)} \\cos{\\left(\\theta{\\left(t \\right)} \\right)} \\frac{d}{d t} \\theta{\\left(t \\right)} + \\sin{\\left(\\theta{\\left(t \\right)} \\right)} \\cos{\\left(\\phi{\\left(t \\right)} \\right)} \\frac{d}{d t} \\phi{\\left(t \\right)}\\\\\\sin{\\left(\\phi{\\left(t \\right)} \\right)} \\sin{\\left(\\theta{\\left(t \\right)} \\right)} \\frac{d}{d t} \\phi{\\left(t \\right)} - \\cos{\\left(\\phi{\\left(t \\right)} \\right)} \\cos{\\left(\\theta{\\left(t \\right)} \\right)} \\frac{d}{d t} \\theta{\\left(t \\right)}\\\\- \\sin{\\left(\\theta{\\left(t \\right)} \\right)} \\frac{d}{d t} \\theta{\\left(t \\right)}\\end{matrix}\\right]$"
      ],
      "text/plain": [
       "Matrix([\n",
       "[-\\omega*x_0*sin(\\Phi + \\omega*t) + sin(\\phi(t))*cos(\\theta(t))*Derivative(\\theta(t), t) + sin(\\theta(t))*cos(\\phi(t))*Derivative(\\phi(t), t)],\n",
       "[                                   sin(\\phi(t))*sin(\\theta(t))*Derivative(\\phi(t), t) - cos(\\phi(t))*cos(\\theta(t))*Derivative(\\theta(t), t)],\n",
       "[                                                                                                    -sin(\\theta(t))*Derivative(\\theta(t), t)]])"
      ]
     },
     "execution_count": 35,
     "metadata": {},
     "output_type": "execute_result"
    }
   ],
   "source": [
    "v"
   ]
  },
  {
   "cell_type": "code",
   "execution_count": 36,
   "id": "e86afd69-48a7-41f4-9716-062d0b78e4f8",
   "metadata": {},
   "outputs": [
    {
     "data": {
      "text/latex": [
       "$\\displaystyle \\left[\\begin{matrix}\\frac{\\left(\\frac{d}{d t} \\phi{\\left(t \\right)} - 2 \\frac{d}{d t} \\theta{\\left(t \\right)}\\right) \\sin{\\left(\\phi{\\left(t \\right)} - 2 \\theta{\\left(t \\right)} \\right)} \\frac{d}{d t} \\phi{\\left(t \\right)}}{4} - \\frac{\\left(\\frac{d}{d t} \\phi{\\left(t \\right)} + 2 \\frac{d}{d t} \\theta{\\left(t \\right)}\\right) \\sin{\\left(\\phi{\\left(t \\right)} + 2 \\theta{\\left(t \\right)} \\right)} \\frac{d}{d t} \\phi{\\left(t \\right)}}{4} - \\sin{\\left(\\phi{\\left(t \\right)} \\right)} \\frac{d}{d t} \\phi{\\left(t \\right)} \\frac{d}{d t} \\theta{\\left(t \\right)} - \\frac{\\cos{\\left(\\phi{\\left(t \\right)} - 2 \\theta{\\left(t \\right)} \\right)} \\frac{d^{2}}{d t^{2}} \\phi{\\left(t \\right)}}{4} + \\frac{\\cos{\\left(\\phi{\\left(t \\right)} + 2 \\theta{\\left(t \\right)} \\right)} \\frac{d^{2}}{d t^{2}} \\phi{\\left(t \\right)}}{4} + \\cos{\\left(\\phi{\\left(t \\right)} \\right)} \\frac{d^{2}}{d t^{2}} \\theta{\\left(t \\right)}\\\\- \\frac{\\omega x_{0} \\left(\\omega - \\frac{d}{d t} \\theta{\\left(t \\right)}\\right) \\cos{\\left(\\Phi + \\omega t - \\theta{\\left(t \\right)} \\right)}}{2} - \\frac{\\omega x_{0} \\left(\\omega + \\frac{d}{d t} \\theta{\\left(t \\right)}\\right) \\cos{\\left(\\Phi + \\omega t + \\theta{\\left(t \\right)} \\right)}}{2} - \\frac{\\left(\\frac{d}{d t} \\phi{\\left(t \\right)} - 2 \\frac{d}{d t} \\theta{\\left(t \\right)}\\right) \\cos{\\left(\\phi{\\left(t \\right)} - 2 \\theta{\\left(t \\right)} \\right)} \\frac{d}{d t} \\phi{\\left(t \\right)}}{4} + \\frac{\\left(\\frac{d}{d t} \\phi{\\left(t \\right)} + 2 \\frac{d}{d t} \\theta{\\left(t \\right)}\\right) \\cos{\\left(\\phi{\\left(t \\right)} + 2 \\theta{\\left(t \\right)} \\right)} \\frac{d}{d t} \\phi{\\left(t \\right)}}{4} - \\frac{\\sin{\\left(\\phi{\\left(t \\right)} - 2 \\theta{\\left(t \\right)} \\right)} \\frac{d^{2}}{d t^{2}} \\phi{\\left(t \\right)}}{4} + \\frac{\\sin{\\left(\\phi{\\left(t \\right)} + 2 \\theta{\\left(t \\right)} \\right)} \\frac{d^{2}}{d t^{2}} \\phi{\\left(t \\right)}}{4} + \\sin{\\left(\\phi{\\left(t \\right)} \\right)} \\frac{d^{2}}{d t^{2}} \\theta{\\left(t \\right)} + \\cos{\\left(\\phi{\\left(t \\right)} \\right)} \\frac{d}{d t} \\phi{\\left(t \\right)} \\frac{d}{d t} \\theta{\\left(t \\right)}\\\\- \\left(\\omega x_{0} \\sin{\\left(\\Phi + \\omega t \\right)} \\cos{\\left(\\phi{\\left(t \\right)} \\right)} - \\sin{\\left(\\theta{\\left(t \\right)} \\right)} \\frac{d}{d t} \\phi{\\left(t \\right)}\\right) \\cos{\\left(\\theta{\\left(t \\right)} \\right)} \\frac{d}{d t} \\theta{\\left(t \\right)} + \\left(- \\omega^{2} x_{0} \\cos{\\left(\\Phi + \\omega t \\right)} \\cos{\\left(\\phi{\\left(t \\right)} \\right)} + \\omega x_{0} \\sin{\\left(\\Phi + \\omega t \\right)} \\sin{\\left(\\phi{\\left(t \\right)} \\right)} \\frac{d}{d t} \\phi{\\left(t \\right)} + \\sin{\\left(\\theta{\\left(t \\right)} \\right)} \\frac{d^{2}}{d t^{2}} \\phi{\\left(t \\right)} + \\cos{\\left(\\theta{\\left(t \\right)} \\right)} \\frac{d}{d t} \\phi{\\left(t \\right)} \\frac{d}{d t} \\theta{\\left(t \\right)}\\right) \\sin{\\left(\\theta{\\left(t \\right)} \\right)}\\end{matrix}\\right]$"
      ],
      "text/plain": [
       "Matrix([\n",
       "[                                                                                                                                                                         (Derivative(\\phi(t), t) - 2*Derivative(\\theta(t), t))*sin(\\phi(t) - 2*\\theta(t))*Derivative(\\phi(t), t)/4 - (Derivative(\\phi(t), t) + 2*Derivative(\\theta(t), t))*sin(\\phi(t) + 2*\\theta(t))*Derivative(\\phi(t), t)/4 - sin(\\phi(t))*Derivative(\\phi(t), t)*Derivative(\\theta(t), t) - cos(\\phi(t) - 2*\\theta(t))*Derivative(\\phi(t), (t, 2))/4 + cos(\\phi(t) + 2*\\theta(t))*Derivative(\\phi(t), (t, 2))/4 + cos(\\phi(t))*Derivative(\\theta(t), (t, 2))],\n",
       "[-\\omega*x_0*(\\omega - Derivative(\\theta(t), t))*cos(\\Phi + \\omega*t - \\theta(t))/2 - \\omega*x_0*(\\omega + Derivative(\\theta(t), t))*cos(\\Phi + \\omega*t + \\theta(t))/2 - (Derivative(\\phi(t), t) - 2*Derivative(\\theta(t), t))*cos(\\phi(t) - 2*\\theta(t))*Derivative(\\phi(t), t)/4 + (Derivative(\\phi(t), t) + 2*Derivative(\\theta(t), t))*cos(\\phi(t) + 2*\\theta(t))*Derivative(\\phi(t), t)/4 - sin(\\phi(t) - 2*\\theta(t))*Derivative(\\phi(t), (t, 2))/4 + sin(\\phi(t) + 2*\\theta(t))*Derivative(\\phi(t), (t, 2))/4 + sin(\\phi(t))*Derivative(\\theta(t), (t, 2)) + cos(\\phi(t))*Derivative(\\phi(t), t)*Derivative(\\theta(t), t)],\n",
       "[                                                                                                                                                                                                                                         -(\\omega*x_0*sin(\\Phi + \\omega*t)*cos(\\phi(t)) - sin(\\theta(t))*Derivative(\\phi(t), t))*cos(\\theta(t))*Derivative(\\theta(t), t) + (-\\omega**2*x_0*cos(\\Phi + \\omega*t)*cos(\\phi(t)) + \\omega*x_0*sin(\\Phi + \\omega*t)*sin(\\phi(t))*Derivative(\\phi(t), t) + sin(\\theta(t))*Derivative(\\phi(t), (t, 2)) + cos(\\theta(t))*Derivative(\\phi(t), t)*Derivative(\\theta(t), t))*sin(\\theta(t))]])"
      ]
     },
     "execution_count": 36,
     "metadata": {},
     "output_type": "execute_result"
    }
   ],
   "source": [
    "www = smp.diff(Lp, t)\n",
    "www.simplify()\n",
    "www"
   ]
  },
  {
   "cell_type": "code",
   "execution_count": 38,
   "id": "97c4529a-3d4f-4f99-afe1-871e9b16cdbe",
   "metadata": {},
   "outputs": [
    {
     "data": {
      "text/latex": [
       "$\\displaystyle - \\omega^{2} m x_{0} \\sin{\\left(\\phi{\\left(t \\right)} \\right)} \\sin{\\left(\\theta{\\left(t \\right)} \\right)} \\cos{\\left(\\Phi + \\omega t \\right)}$"
      ],
      "text/plain": [
       "-\\omega**2*m*x_0*sin(\\phi(t))*sin(\\theta(t))*cos(\\Phi + \\omega*t)"
      ]
     },
     "execution_count": 38,
     "metadata": {},
     "output_type": "execute_result"
    }
   ],
   "source": [
    "PG.dot(Fe)"
   ]
  },
  {
   "cell_type": "code",
   "execution_count": 39,
   "id": "430cb269-39da-4c2e-978a-86d250f56cd4",
   "metadata": {},
   "outputs": [
    {
     "data": {
      "text/latex": [
       "$\\displaystyle \\left[\\begin{matrix}\\sin{\\left(\\phi{\\left(t \\right)} \\right)} \\sin{\\left(\\theta{\\left(t \\right)} \\right)}\\\\- \\sin{\\left(\\theta{\\left(t \\right)} \\right)} \\cos{\\left(\\phi{\\left(t \\right)} \\right)}\\\\\\cos{\\left(\\theta{\\left(t \\right)} \\right)}\\end{matrix}\\right]$"
      ],
      "text/plain": [
       "Matrix([\n",
       "[ sin(\\phi(t))*sin(\\theta(t))],\n",
       "[-sin(\\theta(t))*cos(\\phi(t))],\n",
       "[              cos(\\theta(t))]])"
      ]
     },
     "execution_count": 39,
     "metadata": {},
     "output_type": "execute_result"
    }
   ],
   "source": [
    "PG"
   ]
  },
  {
   "cell_type": "code",
   "execution_count": null,
   "id": "8a5e8afc-ad5a-47d5-a6d1-d538618b377a",
   "metadata": {},
   "outputs": [],
   "source": []
  },
  {
   "cell_type": "code",
   "execution_count": null,
   "id": "ce8d8bc3-4864-4a8f-adf6-819a76c98ab0",
   "metadata": {},
   "outputs": [],
   "source": []
  }
 ],
 "metadata": {
  "kernelspec": {
   "display_name": "Python 3 (ipykernel)",
   "language": "python",
   "name": "python3"
  },
  "language_info": {
   "codemirror_mode": {
    "name": "ipython",
    "version": 3
   },
   "file_extension": ".py",
   "mimetype": "text/x-python",
   "name": "python",
   "nbconvert_exporter": "python",
   "pygments_lexer": "ipython3",
   "version": "3.11.5"
  }
 },
 "nbformat": 4,
 "nbformat_minor": 5
}
