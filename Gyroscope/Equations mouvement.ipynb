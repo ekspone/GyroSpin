{
 "cells": [
  {
   "cell_type": "code",
   "execution_count": 8,
   "id": "ce72b227-9cc4-4f93-bfa9-7c31b1cb7095",
   "metadata": {},
   "outputs": [],
   "source": [
    "import numpy as np\n",
    "import matplotlib.pyplot as plt\n",
    "import sympy as smp\n",
    "from scipy.integrate import odeint\n",
    "import plotly.graph_objects as go\n",
    "from IPython.display import HTML"
   ]
  },
  {
   "cell_type": "code",
   "execution_count": 9,
   "id": "cbef8aa5-18a0-4286-b1ae-e744c82aa7ce",
   "metadata": {},
   "outputs": [],
   "source": [
    "t, h, g, m, x0, p, w, J1, J3 = smp.symbols(r't h g m x_0 \\Phi \\omega J_1, J_3', real=True)\n",
    "the, phi, psi = smp.symbols(r'\\theta \\phi \\psi', cls=smp.Function)\n",
    "the = the(t)\n",
    "phi = phi(t)\n",
    "psi = psi(t)\n",
    "# Derivatives\n",
    "the_d = smp.diff(the,t)\n",
    "phi_d = smp.diff(phi,t)\n",
    "psi_d = smp.diff(psi,t)\n",
    "# Second derivatives\n",
    "the_dd = smp.diff(the_d,t)\n",
    "phi_dd = smp.diff(phi_d,t)\n",
    "psi_dd = smp.diff(psi_d,t)\n",
    "\n",
    "R3 = smp.Matrix([[smp.cos(psi),-smp.sin(psi),0],\n",
    "                 [smp.sin(psi),smp.cos(psi),0],\n",
    "                 [0,0,1]])\n",
    "\n",
    "R2 = smp.Matrix([[1,0,0],\n",
    "                 [0,smp.cos(the),-smp.sin(the)],\n",
    "                 [0,smp.sin(the),smp.cos(the)]])\n",
    "\n",
    "R1 = smp.Matrix([[smp.cos(phi),-smp.sin(phi),0],\n",
    "                 [smp.sin(phi),smp.cos(phi),0],\n",
    "                 [0,0,1]])\n",
    "\n",
    "R = R1*R2*R3\n",
    "\n",
    "omega = smp.Matrix([phi_d*smp.sin(the)*smp.sin(psi)+the_d*smp.cos(psi),\n",
    "                    phi_d*smp.sin(the)*smp.cos(psi)-the_d*smp.sin(psi),\n",
    "                    phi_d*smp.cos(the)+psi_d])\n",
    "\n",
    "I = smp.Matrix([[J1,0,0],[0,J1,0],[0,0,J3]])\n",
    "\n",
    "xc = h * R @ smp.Matrix([0, 0, 1]) + smp.Matrix([x0 * smp.cos(w * t + p), 0, 0])\n",
    "xc.simplify()\n",
    "vc = smp.diff(xc, t)\n",
    "vc.simplify()\n",
    "vc_carre = vc.T.dot(vc)\n",
    "vc_carre.simplify()\n",
    "\n",
    "xc_free = h * R @ smp.Matrix([0, 0, 1])\n",
    "xc_free.simplify()\n",
    "vc_free = smp.diff(xc_free, t)\n",
    "vc_free.simplify()\n",
    "vc_carre_free = vc_free.T.dot(vc_free)\n",
    "vc_carre_free.simplify()\n",
    "\n",
    "\n",
    "# Kinetic, and potential energy\n",
    "T_rot = (smp.Rational(1, 2) * omega.T.dot(I * omega).simplify())  # Rotational kinetic energy\n",
    "T_c = smp.Rational(1, 2) * m * vc_carre  # Translational kinetic energy\n",
    "T_c = T_c.simplify()\n",
    "T = T_c + T_rot  # Total kinetic energy\n",
    "V = m * g * h * smp.cos(the)  # Potential energy (gravitation)\n",
    "\n",
    "T_free = smp.Rational(1, 2) * m * vc_carre_free + T_rot\n",
    "T_free = T_free.simplify()\n",
    "\n",
    "# Lagrangian\n",
    "L = T_free - V\n",
    "L = L.simplify()\n",
    "L_f = T - V\n",
    "L_f = L_f.simplify()\n",
    "\n",
    "genCoordinates = [the, phi, psi]\n",
    "genSpeeds = [the_d, phi_d, psi_d]\n",
    "genAcceleration = [the_dd, phi_dd, psi_dd]"
   ]
  },
  {
   "cell_type": "code",
   "execution_count": 12,
   "id": "ce8d8bc3-4864-4a8f-adf6-819a76c98ab0",
   "metadata": {},
   "outputs": [
    {
     "data": {
      "text/latex": [
       "$\\displaystyle \\left[\\begin{matrix}\\sin{\\left(\\phi{\\left(t \\right)} \\right)} \\sin{\\left(\\theta{\\left(t \\right)} \\right)}\\\\- \\sin{\\left(\\theta{\\left(t \\right)} \\right)} \\cos{\\left(\\phi{\\left(t \\right)} \\right)}\\\\\\cos{\\left(\\theta{\\left(t \\right)} \\right)}\\end{matrix}\\right]$"
      ],
      "text/plain": [
       "Matrix([\n",
       "[ sin(\\phi(t))*sin(\\theta(t))],\n",
       "[-sin(\\theta(t))*cos(\\phi(t))],\n",
       "[              cos(\\theta(t))]])"
      ]
     },
     "execution_count": 12,
     "metadata": {},
     "output_type": "execute_result"
    }
   ],
   "source": [
    "PG = R @ smp.Matrix([0,0, 1])\n",
    "PG"
   ]
  },
  {
   "cell_type": "code",
   "execution_count": 18,
   "id": "0d5bf985-4eb6-4c91-9535-da652d3fc626",
   "metadata": {},
   "outputs": [
    {
     "data": {
      "text/latex": [
       "$\\displaystyle \\left[\\begin{matrix}- \\omega^{2} x_{0} \\cos{\\left(\\Phi + \\omega t \\right)}\\\\- \\omega^{2} x_{0} \\sin{\\left(\\Phi + \\omega t \\right)}\\\\0\\end{matrix}\\right]$"
      ],
      "text/plain": [
       "Matrix([\n",
       "[-\\omega**2*x_0*cos(\\Phi + \\omega*t)],\n",
       "[-\\omega**2*x_0*sin(\\Phi + \\omega*t)],\n",
       "[                                  0]])"
      ]
     },
     "execution_count": 18,
     "metadata": {},
     "output_type": "execute_result"
    }
   ],
   "source": [
    "ae = - (w**2) * x0 * smp.Matrix([smp.cos(w*t+p), smp.sin(w*t+p), 0])\n",
    "ae"
   ]
  },
  {
   "cell_type": "code",
   "execution_count": 19,
   "id": "8139bbd7-253a-4c5c-9a5c-5ff1a09373cd",
   "metadata": {},
   "outputs": [
    {
     "data": {
      "text/latex": [
       "$\\displaystyle \\left[\\begin{matrix}\\omega^{2} m x_{0} \\cos{\\left(\\Phi + \\omega t \\right)}\\\\\\omega^{2} m x_{0} \\sin{\\left(\\Phi + \\omega t \\right)}\\\\0\\end{matrix}\\right]$"
      ],
      "text/plain": [
       "Matrix([\n",
       "[\\omega**2*m*x_0*cos(\\Phi + \\omega*t)],\n",
       "[\\omega**2*m*x_0*sin(\\Phi + \\omega*t)],\n",
       "[                                   0]])"
      ]
     },
     "execution_count": 19,
     "metadata": {},
     "output_type": "execute_result"
    }
   ],
   "source": [
    "Fe = -m*ae\n",
    "Fe"
   ]
  },
  {
   "cell_type": "code",
   "execution_count": 20,
   "id": "40e4bae7-c795-4fe5-aa67-cfddbf3d6c94",
   "metadata": {},
   "outputs": [
    {
     "data": {
      "text/latex": [
       "$\\displaystyle - \\omega^{2} m x_{0} \\sin{\\left(\\Phi + \\omega t - \\phi{\\left(t \\right)} \\right)} \\sin{\\left(\\theta{\\left(t \\right)} \\right)}$"
      ],
      "text/plain": [
       "-\\omega**2*m*x_0*sin(\\Phi + \\omega*t - \\phi(t))*sin(\\theta(t))"
      ]
     },
     "execution_count": 20,
     "metadata": {},
     "output_type": "execute_result"
    }
   ],
   "source": [
    "Fe.dot(PG).simplify()"
   ]
  },
  {
   "cell_type": "code",
   "execution_count": 24,
   "id": "0a159ba2-41de-43ae-bc1b-3a579c2ad16e",
   "metadata": {},
   "outputs": [
    {
     "data": {
      "text/latex": [
       "$\\displaystyle \\left[\\begin{matrix}- \\omega^{2} m x_{0} \\sin{\\left(\\Phi + \\omega t \\right)} \\cos{\\left(\\theta{\\left(t \\right)} \\right)}\\\\\\omega^{2} m x_{0} \\cos{\\left(\\Phi + \\omega t \\right)} \\cos{\\left(\\theta{\\left(t \\right)} \\right)}\\\\\\omega^{2} m x_{0} \\sin{\\left(\\theta{\\left(t \\right)} \\right)} \\cos{\\left(\\Phi + \\omega t - \\phi{\\left(t \\right)} \\right)}\\end{matrix}\\right]$"
      ],
      "text/plain": [
       "Matrix([\n",
       "[         -\\omega**2*m*x_0*sin(\\Phi + \\omega*t)*cos(\\theta(t))],\n",
       "[          \\omega**2*m*x_0*cos(\\Phi + \\omega*t)*cos(\\theta(t))],\n",
       "[\\omega**2*m*x_0*sin(\\theta(t))*cos(\\Phi + \\omega*t - \\phi(t))]])"
      ]
     },
     "execution_count": 24,
     "metadata": {},
     "output_type": "execute_result"
    }
   ],
   "source": [
    "k = PG.cross(Fe)\n",
    "k.simplify()\n",
    "k"
   ]
  },
  {
   "cell_type": "code",
   "execution_count": null,
   "id": "f94da2fe-c715-479b-b6a3-a7e899eb79d5",
   "metadata": {},
   "outputs": [],
   "source": []
  }
 ],
 "metadata": {
  "kernelspec": {
   "display_name": "Python 3 (ipykernel)",
   "language": "python",
   "name": "python3"
  },
  "language_info": {
   "codemirror_mode": {
    "name": "ipython",
    "version": 3
   },
   "file_extension": ".py",
   "mimetype": "text/x-python",
   "name": "python",
   "nbconvert_exporter": "python",
   "pygments_lexer": "ipython3",
   "version": "3.11.5"
  }
 },
 "nbformat": 4,
 "nbformat_minor": 5
}
