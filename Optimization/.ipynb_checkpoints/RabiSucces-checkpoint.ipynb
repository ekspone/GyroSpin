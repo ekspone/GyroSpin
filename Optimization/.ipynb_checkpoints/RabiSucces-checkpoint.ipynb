{
 "cells": [
  {
   "cell_type": "code",
   "execution_count": 114,
   "id": "f16bde2a-4b5e-4230-a9e5-bf04286e0490",
   "metadata": {},
   "outputs": [],
   "source": [
    "from Mvt_Equations import *\n",
    "import numpy as np\n",
    "import matplotlib.pyplot as plt\n",
    "from time import time"
   ]
  },
  {
   "cell_type": "code",
   "execution_count": 124,
   "id": "4e87f2c0-0775-4c7e-ac09-9f47fc92ffc1",
   "metadata": {},
   "outputs": [
    {
     "name": "stdout",
     "output_type": "stream",
     "text": [
      "Larmor Frequency (th) :               +1.663\n",
      "Larmor Period (th) :               +3.777\n",
      "Rabi Frequency (th) :               +0.016\n",
      "Rabi Period (th) :             +382.690\n",
      "Temps de montée (th) :             +191.345\n",
      "Rapport des pulsations Larmor/Rabi :             +101.308\n",
      "Temps de résolution 11.055191993713379\n"
     ]
    },
    {
     "data": {
      "image/png": "[encoded data removed]",
      "text/plain": [
       "<Figure size 640x480 with 1 Axes>"
      ]
     },
     "metadata": {},
     "output_type": "display_data"
    }
   ],
   "source": [
    "CI = [np.pi - 0.001, 0, 0, 0, 0, 2*np.pi*200]\n",
    "\n",
    "p_psi_exp = CI[-1] * J3\n",
    "\n",
    "g = 9.81\n",
    "m = 0.375\n",
    "J3 = 0.000055\n",
    "J1 = 0.000055\n",
    "h = 31.25 * 1e-3\n",
    "x0 = 7 * 1e-2\n",
    "\n",
    "p_psi_exp = CI[-1] * J3\n",
    "\n",
    "#omega_f =  0.265\n",
    "\n",
    "omega_f = m * g * h / (p_psi_exp)\n",
    "print(f'Larmor Frequency (th) : {omega_f : >+20_.3f}')\n",
    "print(f'Larmor Period (th) : {2 * np.pi / omega_f : >+20_.3f}')\n",
    "\n",
    "omega_R_th = -0.5 * np.cos(params_f[-2]) * (m * h * x0 * (omega_f**2)) / p_psi_exp\n",
    "#omega_R_th = -0.5 * np.cos(params_f[-2]) * ( (m*h)**3 * g**2 * x0) / (p_psi_exp**3)\n",
    "\n",
    "print(f'Rabi Frequency (th) : {omega_R_th : >+20_.3f}')\n",
    "print(f'Rabi Period (th) : {2 * np.pi / omega_R_th : >+20_.3f}')\n",
    "print(f'Temps de montée (th) : {np.pi / omega_R_th : >+20_.3f}')\n",
    "\n",
    "\n",
    "rapport_freq = float(omega_f / omega_R_th)\n",
    "print(f'Rapport des pulsations Larmor/Rabi : {rapport_freq : >+20_.3f}')\n",
    "\n",
    "params_f = [g, m, h, J1, J3, x0, -np.pi,  omega_f / (2 * np.pi)]\n",
    "\n",
    "\n",
    "\n",
    "t1 = time()\n",
    "t, the, phi, psi, the_d, phi_d, psi_d = Solve_Gyro_Forced_Fast(0, 300, CI, params_f, solving_method='RK23')\n",
    "t2 = time()\n",
    "print('Temps de résolution', t2 - t1)\n",
    "\n",
    "plt.figure()\n",
    "plt.plot(t, the * 180 / np.pi)\n",
    "plt.xlabel(r'time $t \\; (s)$')\n",
    "plt.ylabel(r'$\\theta \\; (^\\circ)$')\n",
    "plt.show()"
   ]
  },
  {
   "cell_type": "code",
   "execution_count": 113,
   "id": "6d42d2fb-63dd-4bce-93d6-e84f99b7c55a",
   "metadata": {},
   "outputs": [
    {
     "name": "stdout",
     "output_type": "stream",
     "text": [
      "0.10471975511965977\n",
      "1352.3114669409592\n",
      "0.10471975511965977\n",
      "P_psi 0.019482338722743905\n",
      "CI psi :  56.37655474027882\n",
      "Rapport : 56.34827027489403\n",
      "0.10471975511965977\n",
      "x0 9243.432674778714\n",
      "Rapport : 0.004795018106943194\n"
     ]
    }
   ],
   "source": [
    "def Compute_params(t_montee):\n",
    "    omega_R = np.pi / t_montee\n",
    "    print(omega_R)\n",
    "    y = 2 * omega_R / ( (m*h)**3 * (g**2) )\n",
    "    print(y)\n",
    "    \n",
    "\n",
    "def Compute_p_psi(t_montee, x0_):\n",
    "    omega_R = np.pi / t_montee\n",
    "    print(omega_R)\n",
    "    y = 2 * omega_R / ( (m*h)**3 * (g**2) )\n",
    "    p_psi_c = (x0_ / y)**(1/3)\n",
    "    print('P_psi', p_psi_c)\n",
    "    ci = p_psi_c / (J3 * 2 * np.pi)\n",
    "    print('CI psi : ', ci)\n",
    "    print('Rapport :', (2 / (g*x0_)) * (p_psi_c / (m*h))**2 )\n",
    "\n",
    "Compute_params(30)\n",
    "Compute_p_psi(30, 1 * 1e-2)\n",
    "\n",
    "\n",
    "def Compute_x0(t_montee, psi0_ci):\n",
    "    p_psi_c = J3 * psi0_ci * 2 * np.pi \n",
    "    omega_R = np.pi / t_montee\n",
    "    print(omega_R)\n",
    "    y = 2 * omega_R / ( (m*h)**3 * (g**2) )\n",
    "    x0_c =  psi0_ci**3 / y\n",
    "    print('x0', x0_c * 1e2)\n",
    "    print('Rapport :', (2 / (g*x0_c)) * (p_psi_c / (m*h))**2 )\n",
    "\n",
    "Compute_x0(30, 50)"
   ]
  },
  {
   "cell_type": "code",
   "execution_count": 130,
   "id": "1260184c-4638-451f-b5f1-02a4a59e5943",
   "metadata": {},
   "outputs": [
    {
     "name": "stdout",
     "output_type": "stream",
     "text": [
      "7.697277360931352\n"
     ]
    }
   ],
   "source": [
    "print( m*h*(omega_f**2)*(1e-2 * 10) / (J1 + m*(h**2)) )"
   ]
  },
  {
   "cell_type": "code",
   "execution_count": null,
   "id": "fe2dbb5b-c457-4002-9343-30e178d4d6c0",
   "metadata": {},
   "outputs": [],
   "source": []
  }
 ],
 "metadata": {
  "kernelspec": {
   "display_name": "Python 3 (ipykernel)",
   "language": "python",
   "name": "python3"
  },
  "language_info": {
   "codemirror_mode": {
    "name": "ipython",
    "version": 3
   },
   "file_extension": ".py",
   "mimetype": "text/x-python",
   "name": "python",
   "nbconvert_exporter": "python",
   "pygments_lexer": "ipython3",
   "version": "3.11.5"
  }
 },
 "nbformat": 4,
 "nbformat_minor": 5
}
